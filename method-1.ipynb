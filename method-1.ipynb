{
 "cells": [
  {
   "cell_type": "markdown",
   "metadata": {},
   "source": [
    "# Bank Marketing Dataset\n",
    "# Content\n",
    "\n",
    " ####  Exploratory Data Analysis\n",
    " ####  Missing Values\n",
    " ####  Feature Selection\n",
    " ####  Dummy Values\n",
    " ####  Data Visualization\n",
    " ####  Feature Scalling and Balancing\n",
    " ####  Spliting data\n",
    "\n",
    "##  Apply Classifiers\n",
    " ####  SVM\n",
    " ####  Navie Bayes\n",
    " ####  Decision Tree\n",
    " ####  ANN\n",
    "\n",
    "## Comparison Table and Plot\n"
   ]
  },
  {
   "cell_type": "markdown",
   "metadata": {},
   "source": [
    "##  Exploratory Data Analysis\n"
   ]
  },
  {
   "cell_type": "code",
   "execution_count": 1,
   "metadata": {},
   "outputs": [
    {
     "name": "stderr",
     "output_type": "stream",
     "text": [
      "C:\\Users\\Haris\\Anaconda3\\lib\\site-packages\\sklearn\\externals\\six.py:31: DeprecationWarning: The module is deprecated in version 0.21 and will be removed in version 0.23 since we've dropped support for Python 2.7. Please rely on the official version of six (https://pypi.org/project/six/).\n",
      "  \"(https://pypi.org/project/six/).\", DeprecationWarning)\n"
     ]
    }
   ],
   "source": [
    "# Ignore  the warnings\n",
    "import warnings\n",
    "warnings.filterwarnings('always')\n",
    "warnings.filterwarnings('ignore')\n",
    "\n",
    "# Data Visualization and Manipulation\n",
    "import numpy as np\n",
    "import pandas as pd\n",
    "import random\n",
    "import os\n",
    "import matplotlib.pyplot as plt\n",
    "%matplotlib inline\n",
    "import seaborn as sns\n",
    "import sklearn\n",
    "from sklearn.model_selection import TimeSeriesSplit\n",
    "from pandas.plotting import scatter_matrix\n",
    "from sklearn.externals.six import StringIO  \n",
    "from scipy import optimize\n",
    "\n",
    "\n",
    "# Preprocess\n",
    "from sklearn.preprocessing import MinMaxScaler,StandardScaler,Imputer,LabelEncoder,OneHotEncoder\n",
    "\n",
    "# Modeling Algos libraries\n",
    "from sklearn.svm import LinearSVC\n",
    "from sklearn.svm import SVC\n",
    "from sklearn.tree import DecisionTreeClassifier\n",
    "from sklearn.naive_bayes import GaussianNB\n",
    "from sklearn import svm\n",
    "from sklearn.linear_model import LogisticRegression\n",
    "\n",
    "# Evaluation\n",
    "from sklearn.model_selection import train_test_split\n",
    "from sklearn.metrics import accuracy_score\n",
    "from sklearn.metrics import precision_score, recall_score , accuracy_score, f1_score\n",
    "from sklearn import metrics"
   ]
  },
  {
   "cell_type": "code",
   "execution_count": 2,
   "metadata": {},
   "outputs": [
    {
     "data": {
      "text/html": [
       "<div>\n",
       "<style scoped>\n",
       "    .dataframe tbody tr th:only-of-type {\n",
       "        vertical-align: middle;\n",
       "    }\n",
       "\n",
       "    .dataframe tbody tr th {\n",
       "        vertical-align: top;\n",
       "    }\n",
       "\n",
       "    .dataframe thead th {\n",
       "        text-align: right;\n",
       "    }\n",
       "</style>\n",
       "<table border=\"1\" class=\"dataframe\">\n",
       "  <thead>\n",
       "    <tr style=\"text-align: right;\">\n",
       "      <th></th>\n",
       "      <th>age</th>\n",
       "      <th>job</th>\n",
       "      <th>marital</th>\n",
       "      <th>education</th>\n",
       "      <th>default</th>\n",
       "      <th>balance</th>\n",
       "      <th>housing</th>\n",
       "      <th>loan</th>\n",
       "      <th>contact</th>\n",
       "      <th>day</th>\n",
       "      <th>month</th>\n",
       "      <th>duration</th>\n",
       "      <th>campaign</th>\n",
       "      <th>pdays</th>\n",
       "      <th>previous</th>\n",
       "      <th>poutcome</th>\n",
       "      <th>y</th>\n",
       "    </tr>\n",
       "  </thead>\n",
       "  <tbody>\n",
       "    <tr>\n",
       "      <th>0</th>\n",
       "      <td>58</td>\n",
       "      <td>management</td>\n",
       "      <td>married</td>\n",
       "      <td>tertiary</td>\n",
       "      <td>no</td>\n",
       "      <td>2143</td>\n",
       "      <td>yes</td>\n",
       "      <td>no</td>\n",
       "      <td>unknown</td>\n",
       "      <td>5</td>\n",
       "      <td>may</td>\n",
       "      <td>261</td>\n",
       "      <td>1</td>\n",
       "      <td>-1</td>\n",
       "      <td>0</td>\n",
       "      <td>unknown</td>\n",
       "      <td>no</td>\n",
       "    </tr>\n",
       "    <tr>\n",
       "      <th>1</th>\n",
       "      <td>44</td>\n",
       "      <td>technician</td>\n",
       "      <td>single</td>\n",
       "      <td>secondary</td>\n",
       "      <td>no</td>\n",
       "      <td>29</td>\n",
       "      <td>yes</td>\n",
       "      <td>no</td>\n",
       "      <td>unknown</td>\n",
       "      <td>5</td>\n",
       "      <td>may</td>\n",
       "      <td>151</td>\n",
       "      <td>1</td>\n",
       "      <td>-1</td>\n",
       "      <td>0</td>\n",
       "      <td>unknown</td>\n",
       "      <td>no</td>\n",
       "    </tr>\n",
       "    <tr>\n",
       "      <th>2</th>\n",
       "      <td>33</td>\n",
       "      <td>entrepreneur</td>\n",
       "      <td>married</td>\n",
       "      <td>secondary</td>\n",
       "      <td>no</td>\n",
       "      <td>2</td>\n",
       "      <td>yes</td>\n",
       "      <td>yes</td>\n",
       "      <td>unknown</td>\n",
       "      <td>5</td>\n",
       "      <td>may</td>\n",
       "      <td>76</td>\n",
       "      <td>1</td>\n",
       "      <td>-1</td>\n",
       "      <td>0</td>\n",
       "      <td>unknown</td>\n",
       "      <td>no</td>\n",
       "    </tr>\n",
       "    <tr>\n",
       "      <th>3</th>\n",
       "      <td>47</td>\n",
       "      <td>blue-collar</td>\n",
       "      <td>married</td>\n",
       "      <td>unknown</td>\n",
       "      <td>no</td>\n",
       "      <td>1506</td>\n",
       "      <td>yes</td>\n",
       "      <td>no</td>\n",
       "      <td>unknown</td>\n",
       "      <td>5</td>\n",
       "      <td>may</td>\n",
       "      <td>92</td>\n",
       "      <td>1</td>\n",
       "      <td>-1</td>\n",
       "      <td>0</td>\n",
       "      <td>unknown</td>\n",
       "      <td>no</td>\n",
       "    </tr>\n",
       "    <tr>\n",
       "      <th>4</th>\n",
       "      <td>33</td>\n",
       "      <td>unknown</td>\n",
       "      <td>single</td>\n",
       "      <td>unknown</td>\n",
       "      <td>no</td>\n",
       "      <td>1</td>\n",
       "      <td>no</td>\n",
       "      <td>no</td>\n",
       "      <td>unknown</td>\n",
       "      <td>5</td>\n",
       "      <td>may</td>\n",
       "      <td>198</td>\n",
       "      <td>1</td>\n",
       "      <td>-1</td>\n",
       "      <td>0</td>\n",
       "      <td>unknown</td>\n",
       "      <td>no</td>\n",
       "    </tr>\n",
       "  </tbody>\n",
       "</table>\n",
       "</div>"
      ],
      "text/plain": [
       "   age           job  marital  education default  balance housing loan  \\\n",
       "0   58    management  married   tertiary      no     2143     yes   no   \n",
       "1   44    technician   single  secondary      no       29     yes   no   \n",
       "2   33  entrepreneur  married  secondary      no        2     yes  yes   \n",
       "3   47   blue-collar  married    unknown      no     1506     yes   no   \n",
       "4   33       unknown   single    unknown      no        1      no   no   \n",
       "\n",
       "   contact  day month  duration  campaign  pdays  previous poutcome   y  \n",
       "0  unknown    5   may       261         1     -1         0  unknown  no  \n",
       "1  unknown    5   may       151         1     -1         0  unknown  no  \n",
       "2  unknown    5   may        76         1     -1         0  unknown  no  \n",
       "3  unknown    5   may        92         1     -1         0  unknown  no  \n",
       "4  unknown    5   may       198         1     -1         0  unknown  no  "
      ]
     },
     "execution_count": 2,
     "metadata": {},
     "output_type": "execute_result"
    }
   ],
   "source": [
    "# Load Dataset \n",
    "dataset = pd.read_csv(\"./bank-full.csv\")\n",
    "dataset.head(5)"
   ]
  },
  {
   "cell_type": "code",
   "execution_count": 3,
   "metadata": {},
   "outputs": [],
   "source": [
    "# Creating and Adding User Columns\n",
    "dataset_user_col = pd.DataFrame(np.arange(0,len(dataset)), columns=['user'])\n",
    "dataset = pd.concat([dataset_user_col, dataset], axis=1)"
   ]
  },
  {
   "cell_type": "code",
   "execution_count": 4,
   "metadata": {},
   "outputs": [
    {
     "data": {
      "text/html": [
       "<div>\n",
       "<style scoped>\n",
       "    .dataframe tbody tr th:only-of-type {\n",
       "        vertical-align: middle;\n",
       "    }\n",
       "\n",
       "    .dataframe tbody tr th {\n",
       "        vertical-align: top;\n",
       "    }\n",
       "\n",
       "    .dataframe thead th {\n",
       "        text-align: right;\n",
       "    }\n",
       "</style>\n",
       "<table border=\"1\" class=\"dataframe\">\n",
       "  <thead>\n",
       "    <tr style=\"text-align: right;\">\n",
       "      <th></th>\n",
       "      <th>user</th>\n",
       "      <th>age</th>\n",
       "      <th>job</th>\n",
       "      <th>marital</th>\n",
       "      <th>education</th>\n",
       "      <th>default</th>\n",
       "      <th>balance</th>\n",
       "      <th>housing</th>\n",
       "      <th>loan</th>\n",
       "      <th>contact</th>\n",
       "      <th>day</th>\n",
       "      <th>month</th>\n",
       "      <th>duration</th>\n",
       "      <th>campaign</th>\n",
       "      <th>pdays</th>\n",
       "      <th>previous</th>\n",
       "      <th>poutcome</th>\n",
       "      <th>y</th>\n",
       "    </tr>\n",
       "  </thead>\n",
       "  <tbody>\n",
       "    <tr>\n",
       "      <th>45206</th>\n",
       "      <td>45206</td>\n",
       "      <td>51</td>\n",
       "      <td>technician</td>\n",
       "      <td>married</td>\n",
       "      <td>tertiary</td>\n",
       "      <td>no</td>\n",
       "      <td>825</td>\n",
       "      <td>no</td>\n",
       "      <td>no</td>\n",
       "      <td>cellular</td>\n",
       "      <td>17</td>\n",
       "      <td>nov</td>\n",
       "      <td>977</td>\n",
       "      <td>3</td>\n",
       "      <td>-1</td>\n",
       "      <td>0</td>\n",
       "      <td>unknown</td>\n",
       "      <td>yes</td>\n",
       "    </tr>\n",
       "    <tr>\n",
       "      <th>45207</th>\n",
       "      <td>45207</td>\n",
       "      <td>71</td>\n",
       "      <td>retired</td>\n",
       "      <td>divorced</td>\n",
       "      <td>primary</td>\n",
       "      <td>no</td>\n",
       "      <td>1729</td>\n",
       "      <td>no</td>\n",
       "      <td>no</td>\n",
       "      <td>cellular</td>\n",
       "      <td>17</td>\n",
       "      <td>nov</td>\n",
       "      <td>456</td>\n",
       "      <td>2</td>\n",
       "      <td>-1</td>\n",
       "      <td>0</td>\n",
       "      <td>unknown</td>\n",
       "      <td>yes</td>\n",
       "    </tr>\n",
       "    <tr>\n",
       "      <th>45208</th>\n",
       "      <td>45208</td>\n",
       "      <td>72</td>\n",
       "      <td>retired</td>\n",
       "      <td>married</td>\n",
       "      <td>secondary</td>\n",
       "      <td>no</td>\n",
       "      <td>5715</td>\n",
       "      <td>no</td>\n",
       "      <td>no</td>\n",
       "      <td>cellular</td>\n",
       "      <td>17</td>\n",
       "      <td>nov</td>\n",
       "      <td>1127</td>\n",
       "      <td>5</td>\n",
       "      <td>184</td>\n",
       "      <td>3</td>\n",
       "      <td>success</td>\n",
       "      <td>yes</td>\n",
       "    </tr>\n",
       "    <tr>\n",
       "      <th>45209</th>\n",
       "      <td>45209</td>\n",
       "      <td>57</td>\n",
       "      <td>blue-collar</td>\n",
       "      <td>married</td>\n",
       "      <td>secondary</td>\n",
       "      <td>no</td>\n",
       "      <td>668</td>\n",
       "      <td>no</td>\n",
       "      <td>no</td>\n",
       "      <td>telephone</td>\n",
       "      <td>17</td>\n",
       "      <td>nov</td>\n",
       "      <td>508</td>\n",
       "      <td>4</td>\n",
       "      <td>-1</td>\n",
       "      <td>0</td>\n",
       "      <td>unknown</td>\n",
       "      <td>no</td>\n",
       "    </tr>\n",
       "    <tr>\n",
       "      <th>45210</th>\n",
       "      <td>45210</td>\n",
       "      <td>37</td>\n",
       "      <td>entrepreneur</td>\n",
       "      <td>married</td>\n",
       "      <td>secondary</td>\n",
       "      <td>no</td>\n",
       "      <td>2971</td>\n",
       "      <td>no</td>\n",
       "      <td>no</td>\n",
       "      <td>cellular</td>\n",
       "      <td>17</td>\n",
       "      <td>nov</td>\n",
       "      <td>361</td>\n",
       "      <td>2</td>\n",
       "      <td>188</td>\n",
       "      <td>11</td>\n",
       "      <td>other</td>\n",
       "      <td>no</td>\n",
       "    </tr>\n",
       "  </tbody>\n",
       "</table>\n",
       "</div>"
      ],
      "text/plain": [
       "        user  age           job   marital  education default  balance housing  \\\n",
       "45206  45206   51    technician   married   tertiary      no      825      no   \n",
       "45207  45207   71       retired  divorced    primary      no     1729      no   \n",
       "45208  45208   72       retired   married  secondary      no     5715      no   \n",
       "45209  45209   57   blue-collar   married  secondary      no      668      no   \n",
       "45210  45210   37  entrepreneur   married  secondary      no     2971      no   \n",
       "\n",
       "      loan    contact  day month  duration  campaign  pdays  previous  \\\n",
       "45206   no   cellular   17   nov       977         3     -1         0   \n",
       "45207   no   cellular   17   nov       456         2     -1         0   \n",
       "45208   no   cellular   17   nov      1127         5    184         3   \n",
       "45209   no  telephone   17   nov       508         4     -1         0   \n",
       "45210   no   cellular   17   nov       361         2    188        11   \n",
       "\n",
       "      poutcome    y  \n",
       "45206  unknown  yes  \n",
       "45207  unknown  yes  \n",
       "45208  success  yes  \n",
       "45209  unknown   no  \n",
       "45210    other   no  "
      ]
     },
     "execution_count": 4,
     "metadata": {},
     "output_type": "execute_result"
    }
   ],
   "source": [
    "dataset.tail()"
   ]
  },
  {
   "cell_type": "code",
   "execution_count": 5,
   "metadata": {},
   "outputs": [
    {
     "data": {
      "text/plain": [
       "(45211, 18)"
      ]
     },
     "execution_count": 5,
     "metadata": {},
     "output_type": "execute_result"
    }
   ],
   "source": [
    "# Dimension of Data \n",
    "dataset.shape"
   ]
  },
  {
   "cell_type": "code",
   "execution_count": 6,
   "metadata": {},
   "outputs": [
    {
     "data": {
      "text/plain": [
       "0"
      ]
     },
     "execution_count": 6,
     "metadata": {},
     "output_type": "execute_result"
    }
   ],
   "source": [
    "# To Check Duplicate Value \n",
    "dataset.duplicated().sum()"
   ]
  },
  {
   "cell_type": "code",
   "execution_count": 7,
   "metadata": {},
   "outputs": [
    {
     "name": "stdout",
     "output_type": "stream",
     "text": [
      "<class 'pandas.core.frame.DataFrame'>\n",
      "RangeIndex: 45211 entries, 0 to 45210\n",
      "Data columns (total 18 columns):\n",
      "user         45211 non-null int32\n",
      "age          45211 non-null int64\n",
      "job          45211 non-null object\n",
      "marital      45211 non-null object\n",
      "education    45211 non-null object\n",
      "default      45211 non-null object\n",
      "balance      45211 non-null int64\n",
      "housing      45211 non-null object\n",
      "loan         45211 non-null object\n",
      "contact      45211 non-null object\n",
      "day          45211 non-null int64\n",
      "month        45211 non-null object\n",
      "duration     45211 non-null int64\n",
      "campaign     45211 non-null int64\n",
      "pdays        45211 non-null int64\n",
      "previous     45211 non-null int64\n",
      "poutcome     45211 non-null object\n",
      "y            45211 non-null object\n",
      "dtypes: int32(1), int64(7), object(10)\n",
      "memory usage: 6.0+ MB\n"
     ]
    }
   ],
   "source": [
    "# Information about data ( Counts, Null values , Data Types)\n",
    "dataset.info()"
   ]
  },
  {
   "cell_type": "code",
   "execution_count": 8,
   "metadata": {},
   "outputs": [
    {
     "data": {
      "text/plain": [
       "array(['user', 'age', 'job', 'marital', 'education', 'default', 'balance',\n",
       "       'housing', 'loan', 'contact', 'day', 'month', 'duration',\n",
       "       'campaign', 'pdays', 'previous', 'poutcome', 'y'], dtype=object)"
      ]
     },
     "execution_count": 8,
     "metadata": {},
     "output_type": "execute_result"
    }
   ],
   "source": [
    "# All Features Columns \n",
    "dataset.columns.values"
   ]
  },
  {
   "cell_type": "code",
   "execution_count": 9,
   "metadata": {},
   "outputs": [
    {
     "data": {
      "text/html": [
       "<div>\n",
       "<style scoped>\n",
       "    .dataframe tbody tr th:only-of-type {\n",
       "        vertical-align: middle;\n",
       "    }\n",
       "\n",
       "    .dataframe tbody tr th {\n",
       "        vertical-align: top;\n",
       "    }\n",
       "\n",
       "    .dataframe thead th {\n",
       "        text-align: right;\n",
       "    }\n",
       "</style>\n",
       "<table border=\"1\" class=\"dataframe\">\n",
       "  <thead>\n",
       "    <tr style=\"text-align: right;\">\n",
       "      <th></th>\n",
       "      <th>user</th>\n",
       "      <th>age</th>\n",
       "      <th>balance</th>\n",
       "      <th>day</th>\n",
       "      <th>duration</th>\n",
       "      <th>campaign</th>\n",
       "      <th>pdays</th>\n",
       "      <th>previous</th>\n",
       "    </tr>\n",
       "  </thead>\n",
       "  <tbody>\n",
       "    <tr>\n",
       "      <th>count</th>\n",
       "      <td>45211.000000</td>\n",
       "      <td>45211.000000</td>\n",
       "      <td>45211.000000</td>\n",
       "      <td>45211.000000</td>\n",
       "      <td>45211.000000</td>\n",
       "      <td>45211.000000</td>\n",
       "      <td>45211.000000</td>\n",
       "      <td>45211.000000</td>\n",
       "    </tr>\n",
       "    <tr>\n",
       "      <th>mean</th>\n",
       "      <td>22605.000000</td>\n",
       "      <td>40.936210</td>\n",
       "      <td>1362.272058</td>\n",
       "      <td>15.806419</td>\n",
       "      <td>258.163080</td>\n",
       "      <td>2.763841</td>\n",
       "      <td>40.197828</td>\n",
       "      <td>0.580323</td>\n",
       "    </tr>\n",
       "    <tr>\n",
       "      <th>std</th>\n",
       "      <td>13051.435847</td>\n",
       "      <td>10.618762</td>\n",
       "      <td>3044.765829</td>\n",
       "      <td>8.322476</td>\n",
       "      <td>257.527812</td>\n",
       "      <td>3.098021</td>\n",
       "      <td>100.128746</td>\n",
       "      <td>2.303441</td>\n",
       "    </tr>\n",
       "    <tr>\n",
       "      <th>min</th>\n",
       "      <td>0.000000</td>\n",
       "      <td>18.000000</td>\n",
       "      <td>-8019.000000</td>\n",
       "      <td>1.000000</td>\n",
       "      <td>0.000000</td>\n",
       "      <td>1.000000</td>\n",
       "      <td>-1.000000</td>\n",
       "      <td>0.000000</td>\n",
       "    </tr>\n",
       "    <tr>\n",
       "      <th>25%</th>\n",
       "      <td>11302.500000</td>\n",
       "      <td>33.000000</td>\n",
       "      <td>72.000000</td>\n",
       "      <td>8.000000</td>\n",
       "      <td>103.000000</td>\n",
       "      <td>1.000000</td>\n",
       "      <td>-1.000000</td>\n",
       "      <td>0.000000</td>\n",
       "    </tr>\n",
       "    <tr>\n",
       "      <th>50%</th>\n",
       "      <td>22605.000000</td>\n",
       "      <td>39.000000</td>\n",
       "      <td>448.000000</td>\n",
       "      <td>16.000000</td>\n",
       "      <td>180.000000</td>\n",
       "      <td>2.000000</td>\n",
       "      <td>-1.000000</td>\n",
       "      <td>0.000000</td>\n",
       "    </tr>\n",
       "    <tr>\n",
       "      <th>75%</th>\n",
       "      <td>33907.500000</td>\n",
       "      <td>48.000000</td>\n",
       "      <td>1428.000000</td>\n",
       "      <td>21.000000</td>\n",
       "      <td>319.000000</td>\n",
       "      <td>3.000000</td>\n",
       "      <td>-1.000000</td>\n",
       "      <td>0.000000</td>\n",
       "    </tr>\n",
       "    <tr>\n",
       "      <th>max</th>\n",
       "      <td>45210.000000</td>\n",
       "      <td>95.000000</td>\n",
       "      <td>102127.000000</td>\n",
       "      <td>31.000000</td>\n",
       "      <td>4918.000000</td>\n",
       "      <td>63.000000</td>\n",
       "      <td>871.000000</td>\n",
       "      <td>275.000000</td>\n",
       "    </tr>\n",
       "  </tbody>\n",
       "</table>\n",
       "</div>"
      ],
      "text/plain": [
       "               user           age        balance           day      duration  \\\n",
       "count  45211.000000  45211.000000   45211.000000  45211.000000  45211.000000   \n",
       "mean   22605.000000     40.936210    1362.272058     15.806419    258.163080   \n",
       "std    13051.435847     10.618762    3044.765829      8.322476    257.527812   \n",
       "min        0.000000     18.000000   -8019.000000      1.000000      0.000000   \n",
       "25%    11302.500000     33.000000      72.000000      8.000000    103.000000   \n",
       "50%    22605.000000     39.000000     448.000000     16.000000    180.000000   \n",
       "75%    33907.500000     48.000000    1428.000000     21.000000    319.000000   \n",
       "max    45210.000000     95.000000  102127.000000     31.000000   4918.000000   \n",
       "\n",
       "           campaign         pdays      previous  \n",
       "count  45211.000000  45211.000000  45211.000000  \n",
       "mean       2.763841     40.197828      0.580323  \n",
       "std        3.098021    100.128746      2.303441  \n",
       "min        1.000000     -1.000000      0.000000  \n",
       "25%        1.000000     -1.000000      0.000000  \n",
       "50%        2.000000     -1.000000      0.000000  \n",
       "75%        3.000000     -1.000000      0.000000  \n",
       "max       63.000000    871.000000    275.000000  "
      ]
     },
     "execution_count": 9,
     "metadata": {},
     "output_type": "execute_result"
    }
   ],
   "source": [
    "# Statistical Distribution\n",
    "# only numerical values displaying here\n",
    "dataset.describe()"
   ]
  },
  {
   "cell_type": "code",
   "execution_count": 10,
   "metadata": {},
   "outputs": [
    {
     "data": {
      "text/html": [
       "<div>\n",
       "<style scoped>\n",
       "    .dataframe tbody tr th:only-of-type {\n",
       "        vertical-align: middle;\n",
       "    }\n",
       "\n",
       "    .dataframe tbody tr th {\n",
       "        vertical-align: top;\n",
       "    }\n",
       "\n",
       "    .dataframe thead th {\n",
       "        text-align: right;\n",
       "    }\n",
       "</style>\n",
       "<table border=\"1\" class=\"dataframe\">\n",
       "  <thead>\n",
       "    <tr style=\"text-align: right;\">\n",
       "      <th></th>\n",
       "      <th>user</th>\n",
       "      <th>age</th>\n",
       "      <th>balance</th>\n",
       "      <th>day</th>\n",
       "      <th>duration</th>\n",
       "      <th>campaign</th>\n",
       "      <th>pdays</th>\n",
       "      <th>previous</th>\n",
       "    </tr>\n",
       "    <tr>\n",
       "      <th>y</th>\n",
       "      <th></th>\n",
       "      <th></th>\n",
       "      <th></th>\n",
       "      <th></th>\n",
       "      <th></th>\n",
       "      <th></th>\n",
       "      <th></th>\n",
       "      <th></th>\n",
       "    </tr>\n",
       "  </thead>\n",
       "  <tbody>\n",
       "    <tr>\n",
       "      <th>no</th>\n",
       "      <td>21197.503081</td>\n",
       "      <td>40.838986</td>\n",
       "      <td>1303.714969</td>\n",
       "      <td>15.892290</td>\n",
       "      <td>221.182806</td>\n",
       "      <td>2.846350</td>\n",
       "      <td>36.421372</td>\n",
       "      <td>0.502154</td>\n",
       "    </tr>\n",
       "    <tr>\n",
       "      <th>yes</th>\n",
       "      <td>33228.953867</td>\n",
       "      <td>41.670070</td>\n",
       "      <td>1804.267915</td>\n",
       "      <td>15.158253</td>\n",
       "      <td>537.294574</td>\n",
       "      <td>2.141047</td>\n",
       "      <td>68.702968</td>\n",
       "      <td>1.170354</td>\n",
       "    </tr>\n",
       "  </tbody>\n",
       "</table>\n",
       "</div>"
      ],
      "text/plain": [
       "             user        age      balance        day    duration  campaign  \\\n",
       "y                                                                            \n",
       "no   21197.503081  40.838986  1303.714969  15.892290  221.182806  2.846350   \n",
       "yes  33228.953867  41.670070  1804.267915  15.158253  537.294574  2.141047   \n",
       "\n",
       "         pdays  previous  \n",
       "y                         \n",
       "no   36.421372  0.502154  \n",
       "yes  68.702968  1.170354  "
      ]
     },
     "execution_count": 10,
     "metadata": {},
     "output_type": "execute_result"
    }
   ],
   "source": [
    "# Group Count by Target Feature ( shows only numerical values)\n",
    "dataset.groupby('y').mean()"
   ]
  },
  {
   "cell_type": "code",
   "execution_count": 11,
   "metadata": {},
   "outputs": [
    {
     "data": {
      "text/plain": [
       "no     39922\n",
       "yes     5289\n",
       "Name: y, dtype: int64"
      ]
     },
     "execution_count": 11,
     "metadata": {},
     "output_type": "execute_result"
    }
   ],
   "source": [
    "# Group Counts\n",
    "dataset['y'].value_counts()"
   ]
  },
  {
   "cell_type": "code",
   "execution_count": 12,
   "metadata": {},
   "outputs": [
    {
     "name": "stdout",
     "output_type": "stream",
     "text": [
      "Percentage of \"No\": 88.302%\n",
      "Percentage of \"Yes\": 11.698%\n"
     ]
    }
   ],
   "source": [
    "# Target yes no Percentage Wise \n",
    "countNo = len(dataset[dataset.y == 'no'])\n",
    "countYes = len(dataset[dataset.y == 'yes'])\n",
    "print('Percentage of \"No\": {:.3f}%'. format((countNo/(len(dataset.y))*100)))\n",
    "print('Percentage of \"Yes\": {:.3f}%'. format((countYes/(len(dataset.y))*100)))"
   ]
  },
  {
   "cell_type": "code",
   "execution_count": 13,
   "metadata": {},
   "outputs": [
    {
     "data": {
      "image/png": "[encoded data removed]",
      "text/plain": [
       "<Figure size 432x288 with 1 Axes>"
      ]
     },
     "metadata": {
      "needs_background": "light"
     },
     "output_type": "display_data"
    }
   ],
   "source": [
    "k=sns.countplot(dataset[\"y\"])\n",
    "for b in k.patches:\n",
    "    k.annotate(format(b.get_height(),'.0f'),(b.get_x()+b.get_width() / 2.,b.get_height()))"
   ]
  },
  {
   "cell_type": "markdown",
   "metadata": {},
   "source": [
    "## 1.2 Missing Values "
   ]
  },
  {
   "cell_type": "code",
   "execution_count": 14,
   "metadata": {},
   "outputs": [
    {
     "data": {
      "text/plain": [
       "user         False\n",
       "age          False\n",
       "job          False\n",
       "marital      False\n",
       "education    False\n",
       "default      False\n",
       "balance      False\n",
       "housing      False\n",
       "loan         False\n",
       "contact      False\n",
       "day          False\n",
       "month        False\n",
       "duration     False\n",
       "campaign     False\n",
       "pdays        False\n",
       "previous     False\n",
       "poutcome     False\n",
       "y            False\n",
       "dtype: bool"
      ]
     },
     "execution_count": 14,
     "metadata": {},
     "output_type": "execute_result"
    }
   ],
   "source": [
    "# Null values\n",
    "dataset.isna().any()"
   ]
  },
  {
   "cell_type": "code",
   "execution_count": 15,
   "metadata": {},
   "outputs": [
    {
     "data": {
      "text/plain": [
       "user         0\n",
       "age          0\n",
       "job          0\n",
       "marital      0\n",
       "education    0\n",
       "default      0\n",
       "balance      0\n",
       "housing      0\n",
       "loan         0\n",
       "contact      0\n",
       "day          0\n",
       "month        0\n",
       "duration     0\n",
       "campaign     0\n",
       "pdays        0\n",
       "previous     0\n",
       "poutcome     0\n",
       "y            0\n",
       "dtype: int64"
      ]
     },
     "execution_count": 15,
     "metadata": {},
     "output_type": "execute_result"
    }
   ],
   "source": [
    "# Sum all null values of any \n",
    "dataset.isna().sum()"
   ]
  },
  {
   "cell_type": "code",
   "execution_count": 16,
   "metadata": {},
   "outputs": [
    {
     "data": {
      "text/plain": [
       "<matplotlib.axes._subplots.AxesSubplot at 0x1c166d9e748>"
      ]
     },
     "execution_count": 16,
     "metadata": {},
     "output_type": "execute_result"
    },
    {
     "data": {
      "image/png": "[encoded data removed]",
      "text/plain": [
       "<Figure size 432x288 with 1 Axes>"
      ]
     },
     "metadata": {
      "needs_background": "light"
     },
     "output_type": "display_data"
    }
   ],
   "source": [
    "# Visualize Missing Values\n",
    "sns.heatmap(dataset.isnull(), yticklabels=False, cbar=False, cmap='viridis')"
   ]
  },
  {
   "cell_type": "code",
   "execution_count": 17,
   "metadata": {},
   "outputs": [
    {
     "data": {
      "text/plain": [
       "<matplotlib.axes._subplots.AxesSubplot at 0x1c1671160b8>"
      ]
     },
     "execution_count": 17,
     "metadata": {},
     "output_type": "execute_result"
    },
    {
     "data": {
      "image/png": "[encoded data removed]",
      "text/plain": [
       "<Figure size 432x288 with 1 Axes>"
      ]
     },
     "metadata": {
      "needs_background": "light"
     },
     "output_type": "display_data"
    }
   ],
   "source": [
    "sns.scatterplot(x='age', y='balance',hue='y', data=dataset)"
   ]
  },
  {
   "cell_type": "code",
   "execution_count": 18,
   "metadata": {},
   "outputs": [
    {
     "data": {
      "image/png": "[encoded data removed]",
      "text/plain": [
       "<Figure size 576x504 with 9 Axes>"
      ]
     },
     "metadata": {
      "needs_background": "light"
     },
     "output_type": "display_data"
    }
   ],
   "source": [
    "dataset.plot(kind='box', subplots=True, layout=(3,3), sharex=False, sharey=False, figsize=(8, 7))\n",
    "plt.show()"
   ]
  },
  {
   "cell_type": "code",
   "execution_count": 19,
   "metadata": {},
   "outputs": [
    {
     "data": {
      "text/plain": [
       "<matplotlib.axes._subplots.AxesSubplot at 0x1c168db8a90>"
      ]
     },
     "execution_count": 19,
     "metadata": {},
     "output_type": "execute_result"
    },
    {
     "data": {
      "image/png": "[encoded data removed]",
      "text/plain": [
       "<Figure size 432x288 with 1 Axes>"
      ]
     },
     "metadata": {
      "needs_background": "light"
     },
     "output_type": "display_data"
    }
   ],
   "source": [
    "import seaborn as sns\n",
    "sns.boxplot(x=dataset['balance'])"
   ]
  },
  {
   "cell_type": "code",
   "execution_count": 20,
   "metadata": {},
   "outputs": [
    {
     "data": {
      "image/png": "[encoded data removed]",
      "text/plain": [
       "<Figure size 432x288 with 1 Axes>"
      ]
     },
     "metadata": {
      "needs_background": "light"
     },
     "output_type": "display_data"
    }
   ],
   "source": [
    "plot1 = sns.distplot(dataset[\"balance\"], color=\"b\", label=\"Skewness : %.1f\"%(dataset[\"balance\"].skew()))\n",
    "plot1 = plot1.legend(loc=\"best\")"
   ]
  },
  {
   "cell_type": "markdown",
   "metadata": {},
   "source": [
    "### Define X and y"
   ]
  },
  {
   "cell_type": "code",
   "execution_count": 21,
   "metadata": {},
   "outputs": [],
   "source": [
    "#Define X and y\n",
    "X = dataset.drop(['y','user','job','marital', 'education', 'contact', \n",
    "             'housing', 'loan', 'day', 'month', 'poutcome' ], axis=1)\n",
    "y = dataset['y']"
   ]
  },
  {
   "cell_type": "markdown",
   "metadata": {},
   "source": [
    "### Get Dummy Values"
   ]
  },
  {
   "cell_type": "code",
   "execution_count": 22,
   "metadata": {},
   "outputs": [],
   "source": [
    "X = pd.get_dummies(X)\n",
    "y = pd.get_dummies(y)"
   ]
  },
  {
   "cell_type": "code",
   "execution_count": 23,
   "metadata": {},
   "outputs": [
    {
     "data": {
      "text/plain": [
       "array(['user', 'age', 'job', 'marital', 'education', 'default', 'balance',\n",
       "       'housing', 'loan', 'contact', 'day', 'month', 'duration',\n",
       "       'campaign', 'pdays', 'previous', 'poutcome', 'y'], dtype=object)"
      ]
     },
     "execution_count": 23,
     "metadata": {},
     "output_type": "execute_result"
    }
   ],
   "source": [
    "dataset.columns.values\n"
   ]
  },
  {
   "cell_type": "code",
   "execution_count": 24,
   "metadata": {},
   "outputs": [
    {
     "data": {
      "text/plain": [
       "array(['age', 'balance', 'duration', 'campaign', 'pdays', 'previous',\n",
       "       'default_no', 'default_yes'], dtype=object)"
      ]
     },
     "execution_count": 24,
     "metadata": {},
     "output_type": "execute_result"
    }
   ],
   "source": [
    "X.columns.values"
   ]
  },
  {
   "cell_type": "code",
   "execution_count": 25,
   "metadata": {},
   "outputs": [
    {
     "data": {
      "text/plain": [
       "array(['no', 'yes'], dtype=object)"
      ]
     },
     "execution_count": 25,
     "metadata": {},
     "output_type": "execute_result"
    }
   ],
   "source": [
    "y.columns.values"
   ]
  },
  {
   "cell_type": "code",
   "execution_count": 26,
   "metadata": {},
   "outputs": [],
   "source": [
    "X.columns\n",
    "X = X.drop(['default_no'], axis= 1)\n",
    "X = X.rename(columns = {'default_yes': 'default'})\n",
    "y.columns\n",
    "y = y.drop(['yes'], axis=1)\n",
    "y = y.rename(columns= {'no': 'y'})"
   ]
  },
  {
   "cell_type": "code",
   "execution_count": 27,
   "metadata": {},
   "outputs": [
    {
     "data": {
      "text/plain": [
       "array(['age', 'balance', 'duration', 'campaign', 'pdays', 'previous',\n",
       "       'default'], dtype=object)"
      ]
     },
     "execution_count": 27,
     "metadata": {},
     "output_type": "execute_result"
    }
   ],
   "source": [
    "X.columns.values"
   ]
  },
  {
   "cell_type": "code",
   "execution_count": 28,
   "metadata": {},
   "outputs": [
    {
     "data": {
      "text/plain": [
       "array(['y'], dtype=object)"
      ]
     },
     "execution_count": 28,
     "metadata": {},
     "output_type": "execute_result"
    }
   ],
   "source": [
    "y.columns.values"
   ]
  },
  {
   "cell_type": "markdown",
   "metadata": {},
   "source": [
    "# Data Visualization"
   ]
  },
  {
   "cell_type": "code",
   "execution_count": 29,
   "metadata": {},
   "outputs": [
    {
     "data": {
      "image/png": "[encoded data removed]",
      "text/plain": [
       "<Figure size 432x288 with 1 Axes>"
      ]
     },
     "metadata": {
      "needs_background": "light"
     },
     "output_type": "display_data"
    }
   ],
   "source": [
    "#Age group\n",
    "bins = range(0, 100, 10)\n",
    "ax = sns.distplot(dataset.age[dataset.y=='yes'],\n",
    "              color='red', kde=False, bins=bins, label='Have Subscribed')\n",
    "sns.distplot(dataset.age[dataset.y=='no'],\n",
    "         ax=ax,  # Overplots on first plot\n",
    "         color='blue', kde=False, bins=bins, label=\"Haven't Subscribed\")\n",
    "plt.legend()\n",
    "plt.show()"
   ]
  },
  {
   "cell_type": "code",
   "execution_count": 30,
   "metadata": {},
   "outputs": [
    {
     "data": {
      "image/png": "[encoded data removed]",
      "text/plain": [
       "<Figure size 1440x432 with 1 Axes>"
      ]
     },
     "metadata": {
      "needs_background": "light"
     },
     "output_type": "display_data"
    }
   ],
   "source": [
    "#Age\n",
    "pd.crosstab(dataset.age,dataset.y).plot(kind=\"bar\",figsize=(20,6))\n",
    "plt.title('Client Subscribed Frequency for Ages')\n",
    "plt.xlabel('Age')\n",
    "plt.ylabel('Frequency')\n",
    "plt.show()\n"
   ]
  },
  {
   "cell_type": "code",
   "execution_count": 31,
   "metadata": {},
   "outputs": [
    {
     "data": {
      "image/png": "[encoded data removed]",
      "text/plain": [
       "<Figure size 1080x432 with 1 Axes>"
      ]
     },
     "metadata": {
      "needs_background": "light"
     },
     "output_type": "display_data"
    }
   ],
   "source": [
    "pd.crosstab(dataset.marital,dataset.y).plot(kind=\"bar\",figsize=(15,6),color=['#1CA53B','#AA1111' ])\n",
    "plt.title('Client Subscribed Frequency for Maritial')\n",
    "plt.xlabel('marital')\n",
    "plt.xticks(rotation=0)\n",
    "plt.legend([\"Haven't Subscribed\", \"Have Subscribed\"])\n",
    "plt.ylabel('Frequency')\n",
    "plt.show()"
   ]
  },
  {
   "cell_type": "code",
   "execution_count": 32,
   "metadata": {},
   "outputs": [
    {
     "data": {
      "image/png": "[encoded data removed]",
      "text/plain": [
       "<Figure size 432x288 with 1 Axes>"
      ]
     },
     "metadata": {
      "needs_background": "light"
     },
     "output_type": "display_data"
    }
   ],
   "source": [
    "plt.scatter(x=dataset.age[dataset.y=='yes'], y=dataset.duration[(dataset.y=='yes')], c=\"red\")\n",
    "plt.scatter(x=dataset.age[dataset.y=='no'], y=dataset.duration[(dataset.y=='no')])\n",
    "plt.legend([\"Have Subscribed\", \"Haven't Subscribed\"])\n",
    "plt.xlabel(\"Age\")\n",
    "plt.ylabel(\"Duration\")\n",
    "plt.show()"
   ]
  },
  {
   "cell_type": "code",
   "execution_count": 33,
   "metadata": {},
   "outputs": [
    {
     "data": {
      "text/plain": [
       "<matplotlib.axes._subplots.AxesSubplot at 0x1c1693ad5f8>"
      ]
     },
     "execution_count": 33,
     "metadata": {},
     "output_type": "execute_result"
    },
    {
     "data": {
      "image/png": "[encoded data removed]",
      "text/plain": [
       "<Figure size 432x288 with 1 Axes>"
      ]
     },
     "metadata": {
      "needs_background": "light"
     },
     "output_type": "display_data"
    }
   ],
   "source": [
    "sns.scatterplot(x='age', y='balance',hue='y', data=dataset)"
   ]
  },
  {
   "cell_type": "code",
   "execution_count": 34,
   "metadata": {},
   "outputs": [
    {
     "data": {
      "text/html": [
       "<div>\n",
       "<style scoped>\n",
       "    .dataframe tbody tr th:only-of-type {\n",
       "        vertical-align: middle;\n",
       "    }\n",
       "\n",
       "    .dataframe tbody tr th {\n",
       "        vertical-align: top;\n",
       "    }\n",
       "\n",
       "    .dataframe thead th {\n",
       "        text-align: right;\n",
       "    }\n",
       "</style>\n",
       "<table border=\"1\" class=\"dataframe\">\n",
       "  <thead>\n",
       "    <tr style=\"text-align: right;\">\n",
       "      <th></th>\n",
       "      <th>user</th>\n",
       "      <th>age</th>\n",
       "      <th>balance</th>\n",
       "      <th>day</th>\n",
       "      <th>duration</th>\n",
       "      <th>campaign</th>\n",
       "      <th>pdays</th>\n",
       "      <th>previous</th>\n",
       "    </tr>\n",
       "  </thead>\n",
       "  <tbody>\n",
       "    <tr>\n",
       "      <th>user</th>\n",
       "      <td>1.000000</td>\n",
       "      <td>0.014973</td>\n",
       "      <td>0.073639</td>\n",
       "      <td>-0.061465</td>\n",
       "      <td>0.013031</td>\n",
       "      <td>-0.102884</td>\n",
       "      <td>0.437729</td>\n",
       "      <td>0.271098</td>\n",
       "    </tr>\n",
       "    <tr>\n",
       "      <th>age</th>\n",
       "      <td>0.014973</td>\n",
       "      <td>1.000000</td>\n",
       "      <td>0.097783</td>\n",
       "      <td>-0.009120</td>\n",
       "      <td>-0.004648</td>\n",
       "      <td>0.004760</td>\n",
       "      <td>-0.023758</td>\n",
       "      <td>0.001288</td>\n",
       "    </tr>\n",
       "    <tr>\n",
       "      <th>balance</th>\n",
       "      <td>0.073639</td>\n",
       "      <td>0.097783</td>\n",
       "      <td>1.000000</td>\n",
       "      <td>0.004503</td>\n",
       "      <td>0.021560</td>\n",
       "      <td>-0.014578</td>\n",
       "      <td>0.003435</td>\n",
       "      <td>0.016674</td>\n",
       "    </tr>\n",
       "    <tr>\n",
       "      <th>day</th>\n",
       "      <td>-0.061465</td>\n",
       "      <td>-0.009120</td>\n",
       "      <td>0.004503</td>\n",
       "      <td>1.000000</td>\n",
       "      <td>-0.030206</td>\n",
       "      <td>0.162490</td>\n",
       "      <td>-0.093044</td>\n",
       "      <td>-0.051710</td>\n",
       "    </tr>\n",
       "    <tr>\n",
       "      <th>duration</th>\n",
       "      <td>0.013031</td>\n",
       "      <td>-0.004648</td>\n",
       "      <td>0.021560</td>\n",
       "      <td>-0.030206</td>\n",
       "      <td>1.000000</td>\n",
       "      <td>-0.084570</td>\n",
       "      <td>-0.001565</td>\n",
       "      <td>0.001203</td>\n",
       "    </tr>\n",
       "    <tr>\n",
       "      <th>campaign</th>\n",
       "      <td>-0.102884</td>\n",
       "      <td>0.004760</td>\n",
       "      <td>-0.014578</td>\n",
       "      <td>0.162490</td>\n",
       "      <td>-0.084570</td>\n",
       "      <td>1.000000</td>\n",
       "      <td>-0.088628</td>\n",
       "      <td>-0.032855</td>\n",
       "    </tr>\n",
       "    <tr>\n",
       "      <th>pdays</th>\n",
       "      <td>0.437729</td>\n",
       "      <td>-0.023758</td>\n",
       "      <td>0.003435</td>\n",
       "      <td>-0.093044</td>\n",
       "      <td>-0.001565</td>\n",
       "      <td>-0.088628</td>\n",
       "      <td>1.000000</td>\n",
       "      <td>0.454820</td>\n",
       "    </tr>\n",
       "    <tr>\n",
       "      <th>previous</th>\n",
       "      <td>0.271098</td>\n",
       "      <td>0.001288</td>\n",
       "      <td>0.016674</td>\n",
       "      <td>-0.051710</td>\n",
       "      <td>0.001203</td>\n",
       "      <td>-0.032855</td>\n",
       "      <td>0.454820</td>\n",
       "      <td>1.000000</td>\n",
       "    </tr>\n",
       "  </tbody>\n",
       "</table>\n",
       "</div>"
      ],
      "text/plain": [
       "              user       age   balance       day  duration  campaign  \\\n",
       "user      1.000000  0.014973  0.073639 -0.061465  0.013031 -0.102884   \n",
       "age       0.014973  1.000000  0.097783 -0.009120 -0.004648  0.004760   \n",
       "balance   0.073639  0.097783  1.000000  0.004503  0.021560 -0.014578   \n",
       "day      -0.061465 -0.009120  0.004503  1.000000 -0.030206  0.162490   \n",
       "duration  0.013031 -0.004648  0.021560 -0.030206  1.000000 -0.084570   \n",
       "campaign -0.102884  0.004760 -0.014578  0.162490 -0.084570  1.000000   \n",
       "pdays     0.437729 -0.023758  0.003435 -0.093044 -0.001565 -0.088628   \n",
       "previous  0.271098  0.001288  0.016674 -0.051710  0.001203 -0.032855   \n",
       "\n",
       "             pdays  previous  \n",
       "user      0.437729  0.271098  \n",
       "age      -0.023758  0.001288  \n",
       "balance   0.003435  0.016674  \n",
       "day      -0.093044 -0.051710  \n",
       "duration -0.001565  0.001203  \n",
       "campaign -0.088628 -0.032855  \n",
       "pdays     1.000000  0.454820  \n",
       "previous  0.454820  1.000000  "
      ]
     },
     "execution_count": 34,
     "metadata": {},
     "output_type": "execute_result"
    }
   ],
   "source": [
    "dataset.corr()"
   ]
  },
  {
   "cell_type": "code",
   "execution_count": 72,
   "metadata": {},
   "outputs": [
    {
     "data": {
      "text/plain": [
       "<matplotlib.axes._subplots.AxesSubplot at 0x1c17a28b438>"
      ]
     },
     "execution_count": 72,
     "metadata": {},
     "output_type": "execute_result"
    },
    {
     "data": {
      "image/png": "[encoded data removed]",
      "text/plain": [
       "<Figure size 576x288 with 2 Axes>"
      ]
     },
     "metadata": {},
     "output_type": "display_data"
    }
   ],
   "source": [
    "plt.figure(figsize=(8,4))\n",
    "sns.heatmap(data=dataset.corr(), annot=True, cmap='viridis')"
   ]
  },
  {
   "cell_type": "code",
   "execution_count": null,
   "metadata": {},
   "outputs": [],
   "source": []
  },
  {
   "cell_type": "markdown",
   "metadata": {},
   "source": [
    "# Spliting Dataset\n",
    "Training Set and Test Set"
   ]
  },
  {
   "cell_type": "code",
   "execution_count": 36,
   "metadata": {},
   "outputs": [],
   "source": [
    "from sklearn.model_selection import train_test_split\n",
    "X_train, X_test, y_train, y_test = train_test_split(X, y, test_size=0.3, stratify=y, random_state=42)"
   ]
  },
  {
   "cell_type": "code",
   "execution_count": 37,
   "metadata": {},
   "outputs": [
    {
     "name": "stdout",
     "output_type": "stream",
     "text": [
      "(31647, 7) (13564, 7) (31647, 1) (13564, 1)\n"
     ]
    }
   ],
   "source": [
    "print(X_train.shape,X_test.shape,y_train.shape,y_test.shape)"
   ]
  },
  {
   "cell_type": "markdown",
   "metadata": {},
   "source": [
    "### Balancing"
   ]
  },
  {
   "cell_type": "code",
   "execution_count": 38,
   "metadata": {},
   "outputs": [
    {
     "data": {
      "text/plain": [
       "1    27945\n",
       "0     3702\n",
       "Name: y, dtype: int64"
      ]
     },
     "execution_count": 38,
     "metadata": {},
     "output_type": "execute_result"
    }
   ],
   "source": [
    "y_train['y'].value_counts()"
   ]
  },
  {
   "cell_type": "code",
   "execution_count": 39,
   "metadata": {},
   "outputs": [],
   "source": [
    "import numpy as np\n",
    "pos_index = y_train[y_train.values == 1].index\n",
    "neg_index = y_train[y_train.values == 0].index\n",
    "\n",
    "if len(pos_index) > len(neg_index):\n",
    "    higher = pos_index\n",
    "    lower = neg_index\n",
    "else:\n",
    "    higher = neg_index\n",
    "    lower = pos_index\n",
    "\n",
    "random.seed(0)\n",
    "higher = np.random.choice(higher, size=len(lower))\n",
    "lower = np.asarray(lower)\n",
    "new_indexes = np.concatenate((lower, higher))\n",
    "\n",
    "X_train = X_train.loc[new_indexes]\n",
    "y_train = y_train.loc[new_indexes]"
   ]
  },
  {
   "cell_type": "code",
   "execution_count": 40,
   "metadata": {},
   "outputs": [
    {
     "data": {
      "text/plain": [
       "1    3702\n",
       "0    3702\n",
       "Name: y, dtype: int64"
      ]
     },
     "execution_count": 40,
     "metadata": {},
     "output_type": "execute_result"
    }
   ],
   "source": [
    "y_train['y'].value_counts()"
   ]
  },
  {
   "cell_type": "markdown",
   "metadata": {},
   "source": [
    "# Features Scalling"
   ]
  },
  {
   "cell_type": "code",
   "execution_count": 41,
   "metadata": {},
   "outputs": [],
   "source": [
    "from sklearn.preprocessing import StandardScaler\n",
    "sc = StandardScaler()\n",
    "X_train2 = pd.DataFrame(sc.fit_transform(X_train))\n",
    "X_test2 = pd.DataFrame(sc.transform(X_test))\n",
    "X_train2.columns = X_train.columns.values\n",
    "X_test2.columns = X_test.columns.values\n",
    "X_train2.index = X_train.index.values\n",
    "X_test2.index = X_test.index.values\n",
    "X_train = X_train2\n",
    "X_test = X_test2"
   ]
  },
  {
   "cell_type": "code",
   "execution_count": 42,
   "metadata": {},
   "outputs": [
    {
     "data": {
      "text/plain": [
       "array(['age', 'balance', 'duration', 'campaign', 'pdays', 'previous',\n",
       "       'default'], dtype=object)"
      ]
     },
     "execution_count": 42,
     "metadata": {},
     "output_type": "execute_result"
    }
   ],
   "source": [
    "X_train.columns.values"
   ]
  },
  {
   "cell_type": "code",
   "execution_count": 43,
   "metadata": {},
   "outputs": [
    {
     "data": {
      "text/plain": [
       "array(['age', 'balance', 'duration', 'campaign', 'pdays', 'previous',\n",
       "       'default'], dtype=object)"
      ]
     },
     "execution_count": 43,
     "metadata": {},
     "output_type": "execute_result"
    }
   ],
   "source": [
    "X_train2.columns.values"
   ]
  },
  {
   "cell_type": "code",
   "execution_count": 44,
   "metadata": {},
   "outputs": [
    {
     "data": {
      "text/plain": [
       "array(['age', 'balance', 'duration', 'campaign', 'pdays', 'previous',\n",
       "       'default'], dtype=object)"
      ]
     },
     "execution_count": 44,
     "metadata": {},
     "output_type": "execute_result"
    }
   ],
   "source": [
    "X_test.columns.values"
   ]
  },
  {
   "cell_type": "code",
   "execution_count": 45,
   "metadata": {},
   "outputs": [
    {
     "data": {
      "text/html": [
       "<div>\n",
       "<style scoped>\n",
       "    .dataframe tbody tr th:only-of-type {\n",
       "        vertical-align: middle;\n",
       "    }\n",
       "\n",
       "    .dataframe tbody tr th {\n",
       "        vertical-align: top;\n",
       "    }\n",
       "\n",
       "    .dataframe thead th {\n",
       "        text-align: right;\n",
       "    }\n",
       "</style>\n",
       "<table border=\"1\" class=\"dataframe\">\n",
       "  <thead>\n",
       "    <tr style=\"text-align: right;\">\n",
       "      <th></th>\n",
       "      <th>age</th>\n",
       "      <th>balance</th>\n",
       "      <th>duration</th>\n",
       "      <th>campaign</th>\n",
       "      <th>pdays</th>\n",
       "      <th>previous</th>\n",
       "      <th>default</th>\n",
       "    </tr>\n",
       "  </thead>\n",
       "  <tbody>\n",
       "    <tr>\n",
       "      <th>44456</th>\n",
       "      <td>-1.197323</td>\n",
       "      <td>-0.365213</td>\n",
       "      <td>0.003763</td>\n",
       "      <td>0.544912</td>\n",
       "      <td>-0.487141</td>\n",
       "      <td>-0.385646</td>\n",
       "      <td>-0.12337</td>\n",
       "    </tr>\n",
       "    <tr>\n",
       "      <th>44856</th>\n",
       "      <td>-1.280820</td>\n",
       "      <td>-0.155606</td>\n",
       "      <td>1.018342</td>\n",
       "      <td>-0.566222</td>\n",
       "      <td>-0.487141</td>\n",
       "      <td>-0.385646</td>\n",
       "      <td>-0.12337</td>\n",
       "    </tr>\n",
       "    <tr>\n",
       "      <th>31987</th>\n",
       "      <td>-0.529352</td>\n",
       "      <td>0.020711</td>\n",
       "      <td>0.065938</td>\n",
       "      <td>-0.566222</td>\n",
       "      <td>-0.487141</td>\n",
       "      <td>-0.385646</td>\n",
       "      <td>-0.12337</td>\n",
       "    </tr>\n",
       "    <tr>\n",
       "      <th>16811</th>\n",
       "      <td>-1.113827</td>\n",
       "      <td>-0.367370</td>\n",
       "      <td>1.235954</td>\n",
       "      <td>-0.195844</td>\n",
       "      <td>-0.487141</td>\n",
       "      <td>-0.385646</td>\n",
       "      <td>-0.12337</td>\n",
       "    </tr>\n",
       "    <tr>\n",
       "      <th>29849</th>\n",
       "      <td>-0.111870</td>\n",
       "      <td>-0.108136</td>\n",
       "      <td>0.944863</td>\n",
       "      <td>-0.195844</td>\n",
       "      <td>1.246469</td>\n",
       "      <td>0.548229</td>\n",
       "      <td>-0.12337</td>\n",
       "    </tr>\n",
       "  </tbody>\n",
       "</table>\n",
       "</div>"
      ],
      "text/plain": [
       "            age   balance  duration  campaign     pdays  previous  default\n",
       "44456 -1.197323 -0.365213  0.003763  0.544912 -0.487141 -0.385646 -0.12337\n",
       "44856 -1.280820 -0.155606  1.018342 -0.566222 -0.487141 -0.385646 -0.12337\n",
       "31987 -0.529352  0.020711  0.065938 -0.566222 -0.487141 -0.385646 -0.12337\n",
       "16811 -1.113827 -0.367370  1.235954 -0.195844 -0.487141 -0.385646 -0.12337\n",
       "29849 -0.111870 -0.108136  0.944863 -0.195844  1.246469  0.548229 -0.12337"
      ]
     },
     "execution_count": 45,
     "metadata": {},
     "output_type": "execute_result"
    }
   ],
   "source": [
    "X_train.head()"
   ]
  },
  {
   "cell_type": "code",
   "execution_count": null,
   "metadata": {},
   "outputs": [],
   "source": []
  },
  {
   "cell_type": "code",
   "execution_count": 46,
   "metadata": {},
   "outputs": [],
   "source": [
    "temp_list_accuracy=[]\n",
    "temp_list_precision=[]\n",
    "temp_list_recall=[]"
   ]
  },
  {
   "cell_type": "code",
   "execution_count": 47,
   "metadata": {},
   "outputs": [],
   "source": [
    "def plot_prec_recall_vs_tresh(precisions, recalls, thresholds):\n",
    "    plt.plot(thresholds, precisions[:-1], 'b--', label='precision')\n",
    "    plt.plot(thresholds, recalls[:-1], 'g--', label = 'recall')\n",
    "    plt.xlabel('Threshold')\n",
    "    plt.legend(loc='upper left')\n",
    "    plt.ylim([0,1])"
   ]
  },
  {
   "cell_type": "markdown",
   "metadata": {},
   "source": [
    "# 1. Linear SVM"
   ]
  },
  {
   "cell_type": "code",
   "execution_count": 48,
   "metadata": {},
   "outputs": [
    {
     "name": "stdout",
     "output_type": "stream",
     "text": [
      "Accuracy Score : 79.28339722795636\n",
      "PRECISION SCORE : 0.9495831289847965\n",
      "RECALL SCORE : 0.8082992402104032\n"
     ]
    }
   ],
   "source": [
    "## SVM (Linear)\n",
    "classifier_linear_svm = SVC(random_state = 0, kernel = 'linear',probability=True)\n",
    "classifier_linear_svm.fit(X_train, y_train)\n",
    "\n",
    "# Predicting Test Set\n",
    "y_pred_linear_svm = classifier_linear_svm.predict(X_test)\n",
    "\n",
    "# Calculating \n",
    "acc1 = accuracy_score(y_test, y_pred_linear_svm)\n",
    "prec1 = precision_score(y_test, y_pred_linear_svm)\n",
    "rec1 = recall_score(y_test, y_pred_linear_svm)\n",
    "\n",
    "results = pd.DataFrame([['SVM (Linear)', acc1, prec1, rec1]],\n",
    "               columns = ['Model', 'Accuracy', 'Precision', 'Recall'])\n",
    "#print(results)\n",
    "\n",
    "print(\"Accuracy Score :\",acc1 * 100)\n",
    "print(\"PRECISION SCORE :\",prec1)\n",
    "print(\"RECALL SCORE :\", rec1)\n",
    "temp_list_accuracy.append(acc1)\n",
    "temp_list_precision.append(prec1)\n",
    "temp_list_recall.append(rec1)"
   ]
  },
  {
   "cell_type": "raw",
   "metadata": {},
   "source": [
    "## SVM (Linear)\n",
    "classifier_linear_svm = SVC(random_state = 0, kernel = 'Sigmoid',probability=True)\n",
    "classifier_linear_svm.fit(X_train, y_train)\n",
    "\n",
    "# Predicting Test Set\n",
    "y_pred_linear_svm_sigmoid = classifier_linear_svm.predict(X_test)\n",
    "\n",
    "# Calculating \n",
    "acc1 = accuracy_score(y_test, y_pred_linear_svm)\n",
    "prec1 = precision_score(y_test, y_pred_linear_svm)\n",
    "rec1 = recall_score(y_test, y_pred_linear_svm)\n",
    "\n",
    "results = pd.DataFrame([['SVM (Linear)', acc1, prec1, rec1]],\n",
    "               columns = ['Model', 'Accuracy', 'Precision', 'Recall'])\n",
    "#print(results)\n",
    "\n",
    "print(\"Accuracy Score :\",acc1 * 100)\n",
    "print(\"PRECISION SCORE :\",prec1)\n",
    "print(\"RECALL SCORE :\", rec1)\n",
    "temp_list_accuracy.append(acc1)\n",
    "temp_list_precision.append(prec1)\n",
    "emp_list_recall.append(rec1)"
   ]
  },
  {
   "cell_type": "markdown",
   "metadata": {},
   "source": [
    "### Precision Recall curve"
   ]
  },
  {
   "cell_type": "code",
   "execution_count": 49,
   "metadata": {},
   "outputs": [
    {
     "data": {
      "image/png": "[encoded data removed]",
      "text/plain": [
       "<Figure size 432x288 with 1 Axes>"
      ]
     },
     "metadata": {
      "needs_background": "light"
     },
     "output_type": "display_data"
    }
   ],
   "source": [
    "# example of a precision-recall curve for a predictive model\n",
    "from sklearn.datasets import make_classification\n",
    "from sklearn.linear_model import LogisticRegression\n",
    "from sklearn.model_selection import train_test_split\n",
    "from sklearn.metrics import precision_recall_curve\n",
    "from matplotlib import pyplot as plt\n",
    "# predict probabilities\n",
    "y_scores=classifier_linear_svm.predict_proba(X_test)\n",
    "prec, rec, tre = precision_recall_curve(y_test, y_scores[:,1], )\n",
    "plot_prec_recall_vs_tresh(prec, rec, tre)\n",
    "plt.show()"
   ]
  },
  {
   "cell_type": "code",
   "execution_count": 50,
   "metadata": {},
   "outputs": [
    {
     "name": "stdout",
     "output_type": "stream",
     "text": [
      "              precision    recall  f1-score   support\n",
      "\n",
      "           0       0.32      0.68      0.43      1587\n",
      "           1       0.95      0.81      0.87     11977\n",
      "\n",
      "    accuracy                           0.79     13564\n",
      "   macro avg       0.63      0.74      0.65     13564\n",
      "weighted avg       0.88      0.79      0.82     13564\n",
      "\n"
     ]
    }
   ],
   "source": [
    "#classification report\n",
    "print(metrics.classification_report(y_test, y_pred_linear_svm))"
   ]
  },
  {
   "cell_type": "raw",
   "metadata": {},
   "source": [
    "# Visualization of classification report\n",
    "from yellowbrick.classifier import ClassificationReport\n",
    "from yellowbrick.datasets import load_occupancy\n",
    "\n",
    "print('Accuracy: ', accuracy_score(y_test,y_pred_linear_svm))\n",
    "#print(metrics.classification_report(y_test, y_pred))\n",
    "classes = [\"Not Subscribe\", \"Subscribe\"]\n",
    "visualizer = ClassificationReport(classifier_linear_svm, classes=classes, support=True)\n",
    "visualizer.fit(X_train, y_train)        # Fit the visualizer and the model\n",
    "visualizer.score(X_test, y_test)        # Evaluate the model on the test data\n",
    "visualizer.show()"
   ]
  },
  {
   "cell_type": "code",
   "execution_count": 51,
   "metadata": {},
   "outputs": [
    {
     "name": "stdout",
     "output_type": "stream",
     "text": [
      "[[1073  514]\n",
      " [2296 9681]]\n"
     ]
    },
    {
     "data": {
      "image/png": "[encoded data removed]",
      "text/plain": [
       "<Figure size 576x396 with 1 Axes>"
      ]
     },
     "metadata": {},
     "output_type": "display_data"
    },
    {
     "data": {
      "text/plain": [
       "<Figure size 576x396 with 0 Axes>"
      ]
     },
     "metadata": {},
     "output_type": "display_data"
    }
   ],
   "source": [
    "# Confusion Matrix\n",
    "conf_linear_svm = metrics.confusion_matrix(y_test, y_pred_linear_svm)\n",
    "print(conf_linear_svm)\n",
    "\n",
    "#Visualization of Confusion Matrix\n",
    "from yellowbrick.classifier import confusion_matrix\n",
    "confusion_matrix(\n",
    "    SVC(random_state = 0, kernel = 'linear'),\n",
    "    X_train, y_train, X_test, y_test,\n",
    "    classes=['Not Subscibe', 'Subscribe']\n",
    ")\n",
    "plt.tight_layout()"
   ]
  },
  {
   "cell_type": "raw",
   "metadata": {},
   "source": [
    "sns.heatmap(conf_linear_svm/np.sum(conf_linear_svm), annot=True, \n",
    "            fmt='.2%', cmap='Blues')"
   ]
  },
  {
   "cell_type": "code",
   "execution_count": null,
   "metadata": {},
   "outputs": [],
   "source": []
  },
  {
   "cell_type": "markdown",
   "metadata": {},
   "source": [
    "# 2. Naive Bayes"
   ]
  },
  {
   "cell_type": "code",
   "execution_count": 52,
   "metadata": {},
   "outputs": [
    {
     "name": "stdout",
     "output_type": "stream",
     "text": [
      "Accuracy Score : 77.21910940725449\n",
      "PRECISION SCORE : 0.9444833450035011\n",
      "RECALL SCORE : 0.7883443266260333\n"
     ]
    }
   ],
   "source": [
    "## Naive Bayes\n",
    "classifier_NB = GaussianNB()\n",
    "classifier_NB.fit(X_train, y_train)\n",
    "\n",
    "# Predicting Test Set\n",
    "y_pred_NB = classifier_NB.predict(X_test)\n",
    "\n",
    "\n",
    "acc2 = accuracy_score(y_test, y_pred_NB)\n",
    "prec2 = precision_score(y_test, y_pred_NB)\n",
    "rec2 = recall_score(y_test, y_pred_NB)\n",
    "\n",
    "\n",
    "\n",
    "model_results_navie_bayes = pd.DataFrame([['Naive Bayes (Gaussian)', acc2, prec2, rec2]],\n",
    "               columns = ['Model', 'Accuracy', 'Precision', 'Recall',])\n",
    "\n",
    "results = results.append(model_results_navie_bayes, ignore_index = True)\n",
    "#print(model_results_navie_bayes)\n",
    "\n",
    "print(\"Accuracy Score :\",acc2 * 100)\n",
    "print(\"PRECISION SCORE :\",prec2)\n",
    "print(\"RECALL SCORE :\", rec2)\n",
    "temp_list_accuracy.append(acc2)\n",
    "temp_list_precision.append(prec2)\n",
    "temp_list_recall.append(rec2)\n"
   ]
  },
  {
   "cell_type": "markdown",
   "metadata": {},
   "source": [
    "### Precision Recall Curve\n"
   ]
  },
  {
   "cell_type": "code",
   "execution_count": 53,
   "metadata": {},
   "outputs": [
    {
     "data": {
      "image/png": "[encoded data removed]",
      "text/plain": [
       "<Figure size 576x396 with 1 Axes>"
      ]
     },
     "metadata": {},
     "output_type": "display_data"
    }
   ],
   "source": [
    "# example of a precision-recall curve for a predictive model\n",
    "from sklearn.datasets import make_classification\n",
    "from sklearn.linear_model import LogisticRegression\n",
    "from sklearn.model_selection import train_test_split\n",
    "from sklearn.metrics import precision_recall_curve\n",
    "from matplotlib import pyplot as plt\n",
    "# predict probabilities\n",
    "y_scores2=classifier_NB.predict_proba(X_test)\n",
    "prec, rec, tre = precision_recall_curve(y_test, y_scores2[:,1], )\n",
    "plot_prec_recall_vs_tresh(prec, rec, tre)\n",
    "plt.show()"
   ]
  },
  {
   "cell_type": "raw",
   "metadata": {},
   "source": [
    "# Visualization of classification report\n",
    "print('Accuracy: ', accuracy_score(y_test,y_pred_NB))\n",
    "print(metrics.classification_report(y_test, y_pred_NB))\n",
    "\n",
    "classes = [\"Not Subscribe\", \"Subscribe\"]\n",
    "visualizer = ClassificationReport(classifier_NB, classes=classes, support=True)\n",
    "visualizer.fit(X_train, y_train)        # Fit the visualizer and the model\n",
    "visualizer.score(X_test, y_test)        # Evaluate the model on the test data\n",
    "visualizer.show()\n"
   ]
  },
  {
   "cell_type": "code",
   "execution_count": 54,
   "metadata": {},
   "outputs": [
    {
     "name": "stdout",
     "output_type": "stream",
     "text": [
      "[[1032  555]\n",
      " [2535 9442]]\n"
     ]
    },
    {
     "data": {
      "image/png": "[encoded data removed]",
      "text/plain": [
       "<Figure size 576x396 with 1 Axes>"
      ]
     },
     "metadata": {},
     "output_type": "display_data"
    },
    {
     "data": {
      "text/plain": [
       "<Figure size 576x396 with 0 Axes>"
      ]
     },
     "metadata": {},
     "output_type": "display_data"
    }
   ],
   "source": [
    "# Confusion Matrix\n",
    "conf_NB = metrics.confusion_matrix(y_test, y_pred_NB)\n",
    "print(conf_NB)\n",
    "\n",
    "# Instantiate the visualizer with the classification model\n",
    "from yellowbrick.classifier import confusion_matrix\n",
    "confusion_matrix(\n",
    "    GaussianNB(),\n",
    "    X_train, y_train, X_test, y_test,\n",
    "    classes=['not_defaulted', 'defaulted']\n",
    ")\n",
    "plt.tight_layout()"
   ]
  },
  {
   "cell_type": "markdown",
   "metadata": {},
   "source": [
    "# 3.Decision Tree"
   ]
  },
  {
   "cell_type": "code",
   "execution_count": 55,
   "metadata": {},
   "outputs": [
    {
     "name": "stdout",
     "output_type": "stream",
     "text": [
      "Accuracy Score : 72.39015039811265\n",
      "PRECISION SCORE : 0.9492468893254747\n",
      "RECALL SCORE : 0.7261417717291475\n"
     ]
    }
   ],
   "source": [
    "## Decision Tree\n",
    "classifier_dt = DecisionTreeClassifier(criterion='gini', random_state=0)\n",
    "classifier_dt.fit(X_train, y_train)\n",
    "\n",
    "#Predicting the best set result\n",
    "y_pred_dt = classifier_dt.predict(X_test)\n",
    "\n",
    "\n",
    "acc3 = accuracy_score(y_test, y_pred_dt)\n",
    "prec3 = precision_score(y_test, y_pred_dt)\n",
    "rec3 = recall_score(y_test, y_pred_dt)\n",
    "\n",
    "model_results_decision_tree = pd.DataFrame([['Decision Tree', acc3, prec3, rec3]],\n",
    "               columns = ['Model', 'Accuracy', 'Precision', 'Recall'])\n",
    "\n",
    "results = results.append(model_results_decision_tree, ignore_index = True)\n",
    "#print(model_results_decision_tree)\n",
    "\n",
    "print(\"Accuracy Score :\",acc3 * 100)\n",
    "print(\"PRECISION SCORE :\",prec3)\n",
    "print(\"RECALL SCORE :\", rec3)\n",
    "temp_list_accuracy.append(acc3)\n",
    "temp_list_precision.append(prec3)\n",
    "temp_list_recall.append(rec3)"
   ]
  },
  {
   "cell_type": "markdown",
   "metadata": {},
   "source": [
    "### Precision Recall Curves"
   ]
  },
  {
   "cell_type": "code",
   "execution_count": 56,
   "metadata": {},
   "outputs": [
    {
     "data": {
      "image/png": "[encoded data removed]",
      "text/plain": [
       "<Figure size 576x396 with 1 Axes>"
      ]
     },
     "metadata": {},
     "output_type": "display_data"
    }
   ],
   "source": [
    "# example of a precision-recall curve for a predictive model\n",
    "from sklearn.datasets import make_classification\n",
    "from sklearn.linear_model import LogisticRegression\n",
    "from sklearn.model_selection import train_test_split\n",
    "from sklearn.metrics import precision_recall_curve\n",
    "from matplotlib import pyplot as plt\n",
    "# predict probabilities\n",
    "y_scores3=classifier_dt.predict_proba(X_test)\n",
    "prec, rec, tre = precision_recall_curve(y_test, y_scores3[:,1], )\n",
    "plot_prec_recall_vs_tresh(prec, rec, tre)\n",
    "plt.show()"
   ]
  },
  {
   "cell_type": "raw",
   "metadata": {},
   "source": [
    "# Visualization of classification report\n",
    "print('Accuracy: ', accuracy_score(y_test,y_pred_dt))\n",
    "print(metrics.classification_report(y_test, y_pred_dt))\n",
    "\n",
    "classes = [\"Not Subscribe\", \"Subscribe\"]\n",
    "visualizer = ClassificationReport(classifier_dt, classes=classes, support=True)\n",
    "visualizer.fit(X_train, y_train)        # Fit the visualizer and the model\n",
    "visualizer.score(X_test, y_test)        # Evaluate the model on the test data\n",
    "visualizer.show()"
   ]
  },
  {
   "cell_type": "code",
   "execution_count": 57,
   "metadata": {},
   "outputs": [
    {
     "name": "stdout",
     "output_type": "stream",
     "text": [
      "[[1122  465]\n",
      " [3280 8697]]\n"
     ]
    },
    {
     "data": {
      "image/png": "[encoded data removed]",
      "text/plain": [
       "<Figure size 576x396 with 1 Axes>"
      ]
     },
     "metadata": {},
     "output_type": "display_data"
    },
    {
     "data": {
      "text/plain": [
       "<Figure size 576x396 with 0 Axes>"
      ]
     },
     "metadata": {},
     "output_type": "display_data"
    }
   ],
   "source": [
    "# Confusion Matrix\n",
    "conf_dt = metrics.confusion_matrix(y_test, y_pred_dt)\n",
    "print(conf_dt)\n",
    "\n",
    "# Instantiate the visualizer with the classification model\n",
    "from yellowbrick.classifier import confusion_matrix\n",
    "confusion_matrix(\n",
    "    DecisionTreeClassifier(criterion='entropy', random_state=0),\n",
    "    X_train, y_train, X_test, y_test,\n",
    "    classes=['not_defaulted', 'defaulted']\n",
    ")\n",
    "plt.tight_layout()"
   ]
  },
  {
   "cell_type": "markdown",
   "metadata": {},
   "source": [
    "# ANN"
   ]
  },
  {
   "cell_type": "code",
   "execution_count": 58,
   "metadata": {},
   "outputs": [
    {
     "name": "stdout",
     "output_type": "stream",
     "text": [
      "WARNING:tensorflow:From C:\\Users\\Haris\\Anaconda3\\lib\\site-packages\\tensorflow\\python\\ops\\init_ops.py:1251: calling VarianceScaling.__init__ (from tensorflow.python.ops.init_ops) with dtype is deprecated and will be removed in a future version.\n",
      "Instructions for updating:\n",
      "Call initializer instance with the dtype argument instead of passing it to the constructor\n"
     ]
    },
    {
     "name": "stderr",
     "output_type": "stream",
     "text": [
      "Using TensorFlow backend.\n"
     ]
    },
    {
     "name": "stdout",
     "output_type": "stream",
     "text": [
      "WARNING:tensorflow:From C:\\Users\\Haris\\Anaconda3\\lib\\site-packages\\tensorflow\\python\\ops\\nn_impl.py:180: add_dispatch_support.<locals>.wrapper (from tensorflow.python.ops.array_ops) is deprecated and will be removed in a future version.\n",
      "Instructions for updating:\n",
      "Use tf.where in 2.0, which has the same broadcast rule as np.where\n",
      "Train on 5923 samples, validate on 1481 samples\n",
      "Epoch 1/50\n",
      "5923/5923 [==============================] - 1s 153us/sample - loss: 0.6838 - acc: 0.6016 - val_loss: 0.7641 - val_acc: 0.0331\n",
      "Epoch 2/50\n",
      "5923/5923 [==============================] - 0s 47us/sample - loss: 0.6691 - acc: 0.6259 - val_loss: 0.8226 - val_acc: 0.0122\n",
      "Epoch 3/50\n",
      "5923/5923 [==============================] - 0s 48us/sample - loss: 0.6609 - acc: 0.6267 - val_loss: 0.8651 - val_acc: 0.0068\n",
      "Epoch 4/50\n",
      "5923/5923 [==============================] - 0s 55us/sample - loss: 0.6557 - acc: 0.6269 - val_loss: 0.8922 - val_acc: 0.0068\n",
      "Epoch 5/50\n",
      "5923/5923 [==============================] - 0s 42us/sample - loss: 0.6516 - acc: 0.6277 - val_loss: 0.9116 - val_acc: 0.0081\n",
      "Epoch 6/50\n",
      "5923/5923 [==============================] - 0s 55us/sample - loss: 0.6477 - acc: 0.6279 - val_loss: 0.9231 - val_acc: 0.0115\n",
      "Epoch 7/50\n",
      "5923/5923 [==============================] - 0s 45us/sample - loss: 0.6434 - acc: 0.6286 - val_loss: 0.9279 - val_acc: 0.0142\n",
      "Epoch 8/50\n",
      "5923/5923 [==============================] - 0s 44us/sample - loss: 0.6383 - acc: 0.6297 - val_loss: 0.9337 - val_acc: 0.0236\n",
      "Epoch 9/50\n",
      "5923/5923 [==============================] - 0s 43us/sample - loss: 0.6323 - acc: 0.6328 - val_loss: 0.9338 - val_acc: 0.0398\n",
      "Epoch 10/50\n",
      "5923/5923 [==============================] - 0s 43us/sample - loss: 0.6253 - acc: 0.6360 - val_loss: 0.9279 - val_acc: 0.0581\n",
      "Epoch 11/50\n",
      "5923/5923 [==============================] - 0s 47us/sample - loss: 0.6171 - acc: 0.6439 - val_loss: 0.9260 - val_acc: 0.0939\n",
      "Epoch 12/50\n",
      "5923/5923 [==============================] - 0s 58us/sample - loss: 0.6077 - acc: 0.6539 - val_loss: 0.9085 - val_acc: 0.1371\n",
      "Epoch 13/50\n",
      "5923/5923 [==============================] - 0s 46us/sample - loss: 0.5966 - acc: 0.6671 - val_loss: 0.8788 - val_acc: 0.1722\n",
      "Epoch 14/50\n",
      "5923/5923 [==============================] - 0s 44us/sample - loss: 0.5829 - acc: 0.6807 - val_loss: 0.8457 - val_acc: 0.2755\n",
      "Epoch 15/50\n",
      "5923/5923 [==============================] - 0s 42us/sample - loss: 0.5652 - acc: 0.7135 - val_loss: 0.7935 - val_acc: 0.4531\n",
      "Epoch 16/50\n",
      "5923/5923 [==============================] - 0s 44us/sample - loss: 0.5453 - acc: 0.7493 - val_loss: 0.7653 - val_acc: 0.5381\n",
      "Epoch 17/50\n",
      "5923/5923 [==============================] - 0s 43us/sample - loss: 0.5285 - acc: 0.7599 - val_loss: 0.7298 - val_acc: 0.6077\n",
      "Epoch 18/50\n",
      "5923/5923 [==============================] - 0s 39us/sample - loss: 0.5157 - acc: 0.7638 - val_loss: 0.7225 - val_acc: 0.6226\n",
      "Epoch 19/50\n",
      "5923/5923 [==============================] - 0s 44us/sample - loss: 0.5063 - acc: 0.7668 - val_loss: 0.6944 - val_acc: 0.6421\n",
      "Epoch 20/50\n",
      "5923/5923 [==============================] - ETA: 0s - loss: 0.5013 - acc: 0.768 - 0s 47us/sample - loss: 0.5000 - acc: 0.7699 - val_loss: 0.6933 - val_acc: 0.6401\n",
      "Epoch 21/50\n",
      "5923/5923 [==============================] - 0s 43us/sample - loss: 0.4955 - acc: 0.7702 - val_loss: 0.7058 - val_acc: 0.6320\n",
      "Epoch 22/50\n",
      "5923/5923 [==============================] - 0s 44us/sample - loss: 0.4923 - acc: 0.7722 - val_loss: 0.6989 - val_acc: 0.6334\n",
      "Epoch 23/50\n",
      "5923/5923 [==============================] - 0s 49us/sample - loss: 0.4897 - acc: 0.7721 - val_loss: 0.6972 - val_acc: 0.6313\n",
      "Epoch 24/50\n",
      "5923/5923 [==============================] - 0s 50us/sample - loss: 0.4876 - acc: 0.7731 - val_loss: 0.6893 - val_acc: 0.6354\n",
      "Epoch 25/50\n",
      "5923/5923 [==============================] - 0s 42us/sample - loss: 0.4858 - acc: 0.7739 - val_loss: 0.6856 - val_acc: 0.6340\n",
      "Epoch 26/50\n",
      "5923/5923 [==============================] - 0s 50us/sample - loss: 0.4838 - acc: 0.7775 - val_loss: 0.6582 - val_acc: 0.6509\n",
      "Epoch 27/50\n",
      "5923/5923 [==============================] - 0s 43us/sample - loss: 0.4825 - acc: 0.7743 - val_loss: 0.6816 - val_acc: 0.6354\n",
      "Epoch 28/50\n",
      "5923/5923 [==============================] - 0s 44us/sample - loss: 0.4809 - acc: 0.7749 - val_loss: 0.6752 - val_acc: 0.6394\n",
      "Epoch 29/50\n",
      "5923/5923 [==============================] - 0s 36us/sample - loss: 0.4792 - acc: 0.7749 - val_loss: 0.6768 - val_acc: 0.6367\n",
      "Epoch 30/50\n",
      "5923/5923 [==============================] - 0s 36us/sample - loss: 0.4775 - acc: 0.7758 - val_loss: 0.6625 - val_acc: 0.6455\n",
      "Epoch 31/50\n",
      "5923/5923 [==============================] - 0s 38us/sample - loss: 0.4755 - acc: 0.7755 - val_loss: 0.6388 - val_acc: 0.6556\n",
      "Epoch 32/50\n",
      "5923/5923 [==============================] - 0s 36us/sample - loss: 0.4744 - acc: 0.7770 - val_loss: 0.6585 - val_acc: 0.6469\n",
      "Epoch 33/50\n",
      "5923/5923 [==============================] - 0s 46us/sample - loss: 0.4727 - acc: 0.7783 - val_loss: 0.6817 - val_acc: 0.6340\n",
      "Epoch 34/50\n",
      "5923/5923 [==============================] - 0s 36us/sample - loss: 0.4714 - acc: 0.7788 - val_loss: 0.6586 - val_acc: 0.6455\n",
      "Epoch 35/50\n",
      "5923/5923 [==============================] - 0s 35us/sample - loss: 0.4701 - acc: 0.7802 - val_loss: 0.6458 - val_acc: 0.6556\n",
      "Epoch 36/50\n",
      "5923/5923 [==============================] - 0s 38us/sample - loss: 0.4690 - acc: 0.7793 - val_loss: 0.6542 - val_acc: 0.6523\n",
      "Epoch 37/50\n",
      "5923/5923 [==============================] - 0s 35us/sample - loss: 0.4681 - acc: 0.7829 - val_loss: 0.6391 - val_acc: 0.6610\n",
      "Epoch 38/50\n",
      "5923/5923 [==============================] - 0s 36us/sample - loss: 0.4671 - acc: 0.7824 - val_loss: 0.6383 - val_acc: 0.6631\n",
      "Epoch 39/50\n",
      "5923/5923 [==============================] - 0s 35us/sample - loss: 0.4662 - acc: 0.7822 - val_loss: 0.6617 - val_acc: 0.6496\n",
      "Epoch 40/50\n",
      "5923/5923 [==============================] - 0s 38us/sample - loss: 0.4652 - acc: 0.7829 - val_loss: 0.6522 - val_acc: 0.6556\n",
      "Epoch 41/50\n",
      "5923/5923 [==============================] - 0s 37us/sample - loss: 0.4643 - acc: 0.7829 - val_loss: 0.6385 - val_acc: 0.6664\n",
      "Epoch 42/50\n",
      "5923/5923 [==============================] - 0s 36us/sample - loss: 0.4637 - acc: 0.7812 - val_loss: 0.6580 - val_acc: 0.6516\n",
      "Epoch 43/50\n",
      "5923/5923 [==============================] - 0s 36us/sample - loss: 0.4630 - acc: 0.7847 - val_loss: 0.6450 - val_acc: 0.6644\n",
      "Epoch 44/50\n",
      "5923/5923 [==============================] - 0s 35us/sample - loss: 0.4624 - acc: 0.7834 - val_loss: 0.6401 - val_acc: 0.6658\n",
      "Epoch 45/50\n",
      "5923/5923 [==============================] - 0s 37us/sample - loss: 0.4618 - acc: 0.7846 - val_loss: 0.6152 - val_acc: 0.6799\n",
      "Epoch 46/50\n",
      "5923/5923 [==============================] - 0s 36us/sample - loss: 0.4613 - acc: 0.7849 - val_loss: 0.6206 - val_acc: 0.6799\n",
      "Epoch 47/50\n",
      "5923/5923 [==============================] - 0s 46us/sample - loss: 0.4607 - acc: 0.7836 - val_loss: 0.6154 - val_acc: 0.6826\n",
      "Epoch 48/50\n",
      "5923/5923 [==============================] - 0s 36us/sample - loss: 0.4602 - acc: 0.7866 - val_loss: 0.6271 - val_acc: 0.6759\n",
      "Epoch 49/50\n",
      "5923/5923 [==============================] - 0s 39us/sample - loss: 0.4597 - acc: 0.7859 - val_loss: 0.6372 - val_acc: 0.6725\n",
      "Epoch 50/50\n",
      "5923/5923 [==============================] - 0s 39us/sample - loss: 0.4590 - acc: 0.7871 - val_loss: 0.6283 - val_acc: 0.6786\n",
      "Accuracy Score : 69.0061928634621\n",
      "PRECISION SCORE : 0.9736745886654479\n",
      "RECALL SCORE : 0.6670284712365367\n"
     ]
    }
   ],
   "source": [
    "import tensorflow as tf\n",
    "from tensorflow import keras\n",
    "from keras.models import Sequential\n",
    "from keras.layers import Dense\n",
    "\n",
    "\n",
    "#Building model\n",
    "#model=keras.Sequential([keras.layers.Dense(units = 12, activation='relu',input_shape=( 7 ,)),\n",
    "#                   keras.layers.Dense(units = 8,  activation = 'relu'),\n",
    "#                       keras.layers.Dense(units = 1,  activation = 'sigmoid')\n",
    "#                       ])\n",
    "\n",
    "model=keras.Sequential([keras.layers.Dense(units = 12, activation='relu',input_shape=( 7 ,)),\n",
    "                   keras.layers.Dense(units = 8,  activation = 'relu'),\n",
    "                        keras.layers.Dense(units = 8,  activation = 'relu'),\n",
    "                       keras.layers.Dense(units = 1,  activation = 'sigmoid')\n",
    "                       ])\n",
    "                      \n",
    "\n",
    "#optimization\n",
    "model.compile(optimizer='sgd', #Stochastic gradient descent optimizer.\n",
    "              loss='binary_crossentropy', #Used for binary classification\n",
    "              metrics=['accuracy'])\n",
    "\n",
    "#Traing the model\n",
    "hist = model.fit(X_train, y_train,\n",
    "          batch_size=50, epochs=50, validation_split=0.2)\n",
    "\n",
    "#Make a prediction & print the actual values\n",
    "y_pred_ann = model.predict(X_test)\n",
    "y_pred_ann  = [1 if y>=0.5 else 0 for y in y_pred_ann] #Threshold\n",
    "\n",
    "acc4 = accuracy_score(y_test, y_pred_ann)\n",
    "prec4 = precision_score(y_test, y_pred_ann)\n",
    "rec4 = recall_score(y_test, y_pred_ann)\n",
    "\n",
    "model_results_ann = pd.DataFrame([['ANN', acc4, prec4, rec4]],\n",
    "               columns = ['Model', 'Accuracy', 'Precision', 'Recall'])\n",
    "\n",
    "results = results.append(model_results_ann, ignore_index = True)\n",
    "#print(model_results_ann)\n",
    "\n",
    "print(\"Accuracy Score :\",acc4 * 100)\n",
    "print(\"PRECISION SCORE :\",prec4)\n",
    "print(\"RECALL SCORE :\", rec4)\n",
    "temp_list_accuracy.append(acc4)\n",
    "temp_list_precision.append(prec4)\n",
    "temp_list_recall.append(rec4)"
   ]
  },
  {
   "cell_type": "markdown",
   "metadata": {},
   "source": [
    "### Precision Recall Curve"
   ]
  },
  {
   "cell_type": "code",
   "execution_count": 59,
   "metadata": {},
   "outputs": [
    {
     "data": {
      "image/png": "[encoded data removed]",
      "text/plain": [
       "<Figure size 576x396 with 1 Axes>"
      ]
     },
     "metadata": {},
     "output_type": "display_data"
    }
   ],
   "source": [
    "# example of a precision-recall curve for a predictive model\n",
    "from sklearn.datasets import make_classification\n",
    "from sklearn.linear_model import LogisticRegression\n",
    "from sklearn.model_selection import train_test_split\n",
    "from sklearn.metrics import precision_recall_curve\n",
    "from matplotlib import pyplot as plt\n",
    "# predict probabilities\n",
    "y_scores4=model.predict_proba(X_test)\n",
    "prec, rec, tre = precision_recall_curve(y_test, y_scores4[:,0], )\n",
    "plot_prec_recall_vs_tresh(prec, rec, tre)\n",
    "plt.show()"
   ]
  },
  {
   "cell_type": "code",
   "execution_count": 60,
   "metadata": {},
   "outputs": [
    {
     "data": {
      "text/plain": [
       "array([[0.76067907],\n",
       "       [0.13336292],\n",
       "       [0.83326364],\n",
       "       ...,\n",
       "       [0.23689494],\n",
       "       [0.51045585],\n",
       "       [0.9590273 ]], dtype=float32)"
      ]
     },
     "execution_count": 60,
     "metadata": {},
     "output_type": "execute_result"
    }
   ],
   "source": [
    "y_scores4"
   ]
  },
  {
   "cell_type": "raw",
   "metadata": {},
   "source": [
    "#Evaluate the model \n",
    "from sklearn.metrics import classification_report,confusion_matrix, accuracy_score\n",
    "pred = model.predict(X_test)\n",
    "pred  = [1 if y>=0.5 else 0 for y in pred] #Threshold\n",
    "print(classification_report(y_test ,pred ))\n",
    "print('Confusion Matrix: \\n',confusion_matrix(y_test,pred))\n",
    "print()\n",
    "#print('Accuracy: ', accuracy_score(y_test,pred))\n",
    "\n",
    "\n",
    "#visualize the training loss and the validation loss to see if the model is overfitting\n",
    "plt.plot(hist.history['loss'])\n",
    "plt.plot(hist.history['val_loss'])\n",
    "plt.title('Model loss')\n",
    "plt.ylabel('Loss')\n",
    "plt.xlabel('Epochs')\n",
    "plt.legend(['Train', 'Val'], loc='upper right')\n",
    "plt.show()\n",
    "\n",
    "#visualize the training accuracy and the validation accuracy to see if the model is overfitting\n",
    "plt.plot(hist.history['accuracy'])\n",
    "plt.plot(hist.history['val_accuracy'])\n",
    "plt.title('Model accuracy')\n",
    "plt.ylabel('Accuracy')\n",
    "plt.xlabel('Epochs')\n",
    "plt.legend(['Train', 'Val'], loc='lower right')\n",
    "plt.show()"
   ]
  },
  {
   "cell_type": "code",
   "execution_count": 61,
   "metadata": {},
   "outputs": [
    {
     "data": {
      "text/html": [
       "<div>\n",
       "<style scoped>\n",
       "    .dataframe tbody tr th:only-of-type {\n",
       "        vertical-align: middle;\n",
       "    }\n",
       "\n",
       "    .dataframe tbody tr th {\n",
       "        vertical-align: top;\n",
       "    }\n",
       "\n",
       "    .dataframe thead th {\n",
       "        text-align: right;\n",
       "    }\n",
       "</style>\n",
       "<table border=\"1\" class=\"dataframe\">\n",
       "  <thead>\n",
       "    <tr style=\"text-align: right;\">\n",
       "      <th></th>\n",
       "      <th>Model</th>\n",
       "      <th>Accuracy</th>\n",
       "      <th>Precision</th>\n",
       "      <th>Recall</th>\n",
       "    </tr>\n",
       "  </thead>\n",
       "  <tbody>\n",
       "    <tr>\n",
       "      <th>0</th>\n",
       "      <td>SVM (Linear)</td>\n",
       "      <td>0.792834</td>\n",
       "      <td>0.949583</td>\n",
       "      <td>0.808299</td>\n",
       "    </tr>\n",
       "    <tr>\n",
       "      <th>1</th>\n",
       "      <td>Naive Bayes (Gaussian)</td>\n",
       "      <td>0.772191</td>\n",
       "      <td>0.944483</td>\n",
       "      <td>0.788344</td>\n",
       "    </tr>\n",
       "    <tr>\n",
       "      <th>2</th>\n",
       "      <td>Decision Tree</td>\n",
       "      <td>0.723902</td>\n",
       "      <td>0.949247</td>\n",
       "      <td>0.726142</td>\n",
       "    </tr>\n",
       "    <tr>\n",
       "      <th>3</th>\n",
       "      <td>ANN</td>\n",
       "      <td>0.690062</td>\n",
       "      <td>0.973675</td>\n",
       "      <td>0.667028</td>\n",
       "    </tr>\n",
       "  </tbody>\n",
       "</table>\n",
       "</div>"
      ],
      "text/plain": [
       "                    Model  Accuracy  Precision    Recall\n",
       "0            SVM (Linear)  0.792834   0.949583  0.808299\n",
       "1  Naive Bayes (Gaussian)  0.772191   0.944483  0.788344\n",
       "2           Decision Tree  0.723902   0.949247  0.726142\n",
       "3                     ANN  0.690062   0.973675  0.667028"
      ]
     },
     "execution_count": 61,
     "metadata": {},
     "output_type": "execute_result"
    }
   ],
   "source": [
    "# Print result table\n",
    "results"
   ]
  },
  {
   "cell_type": "code",
   "execution_count": 62,
   "metadata": {},
   "outputs": [],
   "source": [
    "def convert(list): \n",
    "    return tuple(list) "
   ]
  },
  {
   "cell_type": "code",
   "execution_count": 63,
   "metadata": {},
   "outputs": [],
   "source": [
    "temp_list_accuracy= convert(temp_list_accuracy)\n",
    "temp_list_precision= convert(temp_list_precision)\n",
    "temp_list_recall= convert(temp_list_recall)"
   ]
  },
  {
   "cell_type": "code",
   "execution_count": 64,
   "metadata": {},
   "outputs": [
    {
     "name": "stdout",
     "output_type": "stream",
     "text": [
      "(0.7928339722795635, 0.7721910940725449, 0.7239015039811265, 0.690061928634621)\n",
      "(0.9495831289847965, 0.9444833450035011, 0.9492468893254747, 0.9736745886654479)\n",
      "(0.8082992402104032, 0.7883443266260333, 0.7261417717291475, 0.6670284712365367)\n"
     ]
    }
   ],
   "source": [
    "print(temp_list_accuracy)\n",
    "print(temp_list_precision)\n",
    "print(temp_list_recall)"
   ]
  },
  {
   "cell_type": "code",
   "execution_count": 65,
   "metadata": {},
   "outputs": [
    {
     "data": {
      "image/png": "[encoded data removed]",
      "text/plain": [
       "<Figure size 576x396 with 1 Axes>"
      ]
     },
     "metadata": {},
     "output_type": "display_data"
    }
   ],
   "source": [
    "import numpy as np\n",
    "import matplotlib.pyplot as plt\n",
    "\n",
    "# data to plot\n",
    "n_groups = 4\n",
    "precision_tuple =temp_list_accuracy\n",
    "accuracy_tuple = temp_list_precision \n",
    "recall_tuple = temp_list_recall\n",
    "\n",
    "# create plot\n",
    "fig, ax = plt.subplots()\n",
    "index = np.arange(n_groups)\n",
    "bar_width = 0.1\n",
    "opacity = 0.8\n",
    "\n",
    "rects1 = plt.bar(index, precision_tuple, bar_width, alpha=opacity, color='r',label='Accuracy')\n",
    "rects2 = plt.bar(index + bar_width, accuracy_tuple, bar_width, alpha=opacity, color='g',label='Precision')\n",
    "rects3 = plt.bar(index + bar_width+bar_width, recall_tuple, bar_width,alpha=opacity,color='b',label='Recall')\n",
    "\n",
    "\n",
    "plt.title('Comparison of Different Classifier')\n",
    "plt.xticks(index + bar_width, ('SVM', 'NB', 'DT', 'ANN'))\n",
    "plt.legend()\n",
    "\n",
    "plt.tight_layout()\n",
    "plt.show()"
   ]
  },
  {
   "cell_type": "code",
   "execution_count": 66,
   "metadata": {},
   "outputs": [
    {
     "data": {
      "image/png": "[encoded data removed]",
      "text/plain": [
       "<Figure size 576x396 with 1 Axes>"
      ]
     },
     "metadata": {},
     "output_type": "display_data"
    },
    {
     "ename": "ValueError",
     "evalue": "Could not interpret input 'vertical'",
     "output_type": "error",
     "traceback": [
      "\u001b[1;31m---------------------------------------------------------------------------\u001b[0m",
      "\u001b[1;31mValueError\u001b[0m                                Traceback (most recent call last)",
      "\u001b[1;32m<ipython-input-66-2bf05945e12f>\u001b[0m in \u001b[0;36m<module>\u001b[1;34m\u001b[0m\n\u001b[0;32m      6\u001b[0m \u001b[0max\u001b[0m\u001b[1;33m.\u001b[0m\u001b[0mbar\u001b[0m\u001b[1;33m(\u001b[0m\u001b[0mhorizontal\u001b[0m\u001b[1;33m,\u001b[0m\u001b[0mvertical\u001b[0m\u001b[1;33m)\u001b[0m\u001b[1;33m\u001b[0m\u001b[1;33m\u001b[0m\u001b[0m\n\u001b[0;32m      7\u001b[0m \u001b[0mplt\u001b[0m\u001b[1;33m.\u001b[0m\u001b[0mshow\u001b[0m\u001b[1;33m(\u001b[0m\u001b[1;33m)\u001b[0m\u001b[1;33m\u001b[0m\u001b[1;33m\u001b[0m\u001b[0m\n\u001b[1;32m----> 8\u001b[1;33m \u001b[0msns\u001b[0m\u001b[1;33m.\u001b[0m\u001b[0mbarplot\u001b[0m\u001b[1;33m(\u001b[0m\u001b[0my\u001b[0m\u001b[1;33m=\u001b[0m\u001b[1;34m'horizontal'\u001b[0m\u001b[1;33m,\u001b[0m\u001b[0mx\u001b[0m\u001b[1;33m=\u001b[0m\u001b[1;34m'vertical'\u001b[0m\u001b[1;33m)\u001b[0m\u001b[1;33m\u001b[0m\u001b[1;33m\u001b[0m\u001b[0m\n\u001b[0m",
      "\u001b[1;32m~\\Anaconda3\\lib\\site-packages\\seaborn\\categorical.py\u001b[0m in \u001b[0;36mbarplot\u001b[1;34m(x, y, hue, data, order, hue_order, estimator, ci, n_boot, units, orient, color, palette, saturation, errcolor, errwidth, capsize, dodge, ax, **kwargs)\u001b[0m\n\u001b[0;32m   3147\u001b[0m                           \u001b[0mestimator\u001b[0m\u001b[1;33m,\u001b[0m \u001b[0mci\u001b[0m\u001b[1;33m,\u001b[0m \u001b[0mn_boot\u001b[0m\u001b[1;33m,\u001b[0m \u001b[0munits\u001b[0m\u001b[1;33m,\u001b[0m\u001b[1;33m\u001b[0m\u001b[1;33m\u001b[0m\u001b[0m\n\u001b[0;32m   3148\u001b[0m                           \u001b[0morient\u001b[0m\u001b[1;33m,\u001b[0m \u001b[0mcolor\u001b[0m\u001b[1;33m,\u001b[0m \u001b[0mpalette\u001b[0m\u001b[1;33m,\u001b[0m \u001b[0msaturation\u001b[0m\u001b[1;33m,\u001b[0m\u001b[1;33m\u001b[0m\u001b[1;33m\u001b[0m\u001b[0m\n\u001b[1;32m-> 3149\u001b[1;33m                           errcolor, errwidth, capsize, dodge)\n\u001b[0m\u001b[0;32m   3150\u001b[0m \u001b[1;33m\u001b[0m\u001b[0m\n\u001b[0;32m   3151\u001b[0m     \u001b[1;32mif\u001b[0m \u001b[0max\u001b[0m \u001b[1;32mis\u001b[0m \u001b[1;32mNone\u001b[0m\u001b[1;33m:\u001b[0m\u001b[1;33m\u001b[0m\u001b[1;33m\u001b[0m\u001b[0m\n",
      "\u001b[1;32m~\\Anaconda3\\lib\\site-packages\\seaborn\\categorical.py\u001b[0m in \u001b[0;36m__init__\u001b[1;34m(self, x, y, hue, data, order, hue_order, estimator, ci, n_boot, units, orient, color, palette, saturation, errcolor, errwidth, capsize, dodge)\u001b[0m\n\u001b[0;32m   1605\u001b[0m         \u001b[1;34m\"\"\"Initialize the plotter.\"\"\"\u001b[0m\u001b[1;33m\u001b[0m\u001b[1;33m\u001b[0m\u001b[0m\n\u001b[0;32m   1606\u001b[0m         self.establish_variables(x, y, hue, data, orient,\n\u001b[1;32m-> 1607\u001b[1;33m                                  order, hue_order, units)\n\u001b[0m\u001b[0;32m   1608\u001b[0m         \u001b[0mself\u001b[0m\u001b[1;33m.\u001b[0m\u001b[0mestablish_colors\u001b[0m\u001b[1;33m(\u001b[0m\u001b[0mcolor\u001b[0m\u001b[1;33m,\u001b[0m \u001b[0mpalette\u001b[0m\u001b[1;33m,\u001b[0m \u001b[0msaturation\u001b[0m\u001b[1;33m)\u001b[0m\u001b[1;33m\u001b[0m\u001b[1;33m\u001b[0m\u001b[0m\n\u001b[0;32m   1609\u001b[0m         \u001b[0mself\u001b[0m\u001b[1;33m.\u001b[0m\u001b[0mestimate_statistic\u001b[0m\u001b[1;33m(\u001b[0m\u001b[0mestimator\u001b[0m\u001b[1;33m,\u001b[0m \u001b[0mci\u001b[0m\u001b[1;33m,\u001b[0m \u001b[0mn_boot\u001b[0m\u001b[1;33m)\u001b[0m\u001b[1;33m\u001b[0m\u001b[1;33m\u001b[0m\u001b[0m\n",
      "\u001b[1;32m~\\Anaconda3\\lib\\site-packages\\seaborn\\categorical.py\u001b[0m in \u001b[0;36mestablish_variables\u001b[1;34m(self, x, y, hue, data, orient, order, hue_order, units)\u001b[0m\n\u001b[0;32m    153\u001b[0m                 \u001b[1;32mif\u001b[0m \u001b[0misinstance\u001b[0m\u001b[1;33m(\u001b[0m\u001b[0minput\u001b[0m\u001b[1;33m,\u001b[0m \u001b[0mstring_types\u001b[0m\u001b[1;33m)\u001b[0m\u001b[1;33m:\u001b[0m\u001b[1;33m\u001b[0m\u001b[1;33m\u001b[0m\u001b[0m\n\u001b[0;32m    154\u001b[0m                     \u001b[0merr\u001b[0m \u001b[1;33m=\u001b[0m \u001b[1;34m\"Could not interpret input '{}'\"\u001b[0m\u001b[1;33m.\u001b[0m\u001b[0mformat\u001b[0m\u001b[1;33m(\u001b[0m\u001b[0minput\u001b[0m\u001b[1;33m)\u001b[0m\u001b[1;33m\u001b[0m\u001b[1;33m\u001b[0m\u001b[0m\n\u001b[1;32m--> 155\u001b[1;33m                     \u001b[1;32mraise\u001b[0m \u001b[0mValueError\u001b[0m\u001b[1;33m(\u001b[0m\u001b[0merr\u001b[0m\u001b[1;33m)\u001b[0m\u001b[1;33m\u001b[0m\u001b[1;33m\u001b[0m\u001b[0m\n\u001b[0m\u001b[0;32m    156\u001b[0m \u001b[1;33m\u001b[0m\u001b[0m\n\u001b[0;32m    157\u001b[0m             \u001b[1;31m# Figure out the plotting orientation\u001b[0m\u001b[1;33m\u001b[0m\u001b[1;33m\u001b[0m\u001b[1;33m\u001b[0m\u001b[0m\n",
      "\u001b[1;31mValueError\u001b[0m: Could not interpret input 'vertical'"
     ]
    }
   ],
   "source": [
    "# Comparison plot\n",
    "fig = plt.figure()\n",
    "ax = fig.add_axes([0,0,1,1])\n",
    "horizontal = results['Model']\n",
    "vertical = results['Accuracy'] * 100\n",
    "ax.bar(horizontal,vertical)\n",
    "plt.show()\n",
    "sns.barplot(y='horizontal',x='vertical')"
   ]
  },
  {
   "cell_type": "code",
   "execution_count": null,
   "metadata": {},
   "outputs": [],
   "source": []
  }
 ],
 "metadata": {
  "kernelspec": {
   "display_name": "Python 3",
   "language": "python",
   "name": "python3"
  },
  "language_info": {
   "codemirror_mode": {
    "name": "ipython",
    "version": 3
   },
   "file_extension": ".py",
   "mimetype": "text/x-python",
   "name": "python",
   "nbconvert_exporter": "python",
   "pygments_lexer": "ipython3",
   "version": "3.7.3"
  }
 },
 "nbformat": 4,
 "nbformat_minor": 2
}
